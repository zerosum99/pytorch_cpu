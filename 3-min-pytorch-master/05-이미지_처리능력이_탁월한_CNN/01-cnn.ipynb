{
 "cells": [
  {
   "cell_type": "markdown",
   "metadata": {},
   "source": [
    "# 5.1 CNN으로 패션 아이템 구분하기\n",
    "Convolutional Neural Network (CNN) 을 이용하여 패션아이템 구분 성능을 높여보겠습니다."
   ]
  },
  {
   "cell_type": "code",
   "execution_count": 1,
   "metadata": {},
   "outputs": [],
   "source": [
    "import torch\n",
    "import torch.nn as nn\n",
    "import torch.optim as optim\n",
    "import torch.nn.functional as F\n",
    "from torchvision import transforms, datasets"
   ]
  },
  {
   "cell_type": "code",
   "execution_count": 2,
   "metadata": {},
   "outputs": [],
   "source": [
    "torch.manual_seed(42)\n",
    "USE_CUDA = torch.cuda.is_available()\n",
    "DEVICE = torch.device(\"cuda\" if USE_CUDA else \"cpu\")"
   ]
  },
  {
   "cell_type": "code",
   "execution_count": 3,
   "metadata": {},
   "outputs": [],
   "source": [
    "EPOCHS     = 40\n",
    "BATCH_SIZE = 64"
   ]
  },
  {
   "cell_type": "markdown",
   "metadata": {},
   "source": [
    "## 데이터셋 불러오기"
   ]
  },
  {
   "cell_type": "code",
   "execution_count": 4,
   "metadata": {},
   "outputs": [
    {
     "name": "stderr",
     "output_type": "stream",
     "text": [
      "\r",
      "0it [00:00, ?it/s]"
     ]
    },
    {
     "name": "stdout",
     "output_type": "stream",
     "text": [
      "Downloading http://yann.lecun.com/exdb/mnist/train-images-idx3-ubyte.gz to ./.data/MNIST/raw/train-images-idx3-ubyte.gz\n"
     ]
    },
    {
     "name": "stderr",
     "output_type": "stream",
     "text": [
      "9920512it [00:05, 1866240.63it/s]                             \n"
     ]
    },
    {
     "name": "stdout",
     "output_type": "stream",
     "text": [
      "Extracting ./.data/MNIST/raw/train-images-idx3-ubyte.gz\n"
     ]
    },
    {
     "name": "stderr",
     "output_type": "stream",
     "text": [
      "  0%|          | 0/28881 [00:00<?, ?it/s]"
     ]
    },
    {
     "name": "stdout",
     "output_type": "stream",
     "text": [
      "Downloading http://yann.lecun.com/exdb/mnist/train-labels-idx1-ubyte.gz to ./.data/MNIST/raw/train-labels-idx1-ubyte.gz\n"
     ]
    },
    {
     "name": "stderr",
     "output_type": "stream",
     "text": [
      "32768it [00:00, 114062.14it/s]           \n",
      "0it [00:00, ?it/s]"
     ]
    },
    {
     "name": "stdout",
     "output_type": "stream",
     "text": [
      "Extracting ./.data/MNIST/raw/train-labels-idx1-ubyte.gz\n",
      "Downloading http://yann.lecun.com/exdb/mnist/t10k-images-idx3-ubyte.gz to ./.data/MNIST/raw/t10k-images-idx3-ubyte.gz\n"
     ]
    },
    {
     "name": "stderr",
     "output_type": "stream",
     "text": [
      "1654784it [00:01, 1202736.42it/s]                             \n",
      "0it [00:00, ?it/s]"
     ]
    },
    {
     "name": "stdout",
     "output_type": "stream",
     "text": [
      "Extracting ./.data/MNIST/raw/t10k-images-idx3-ubyte.gz\n",
      "Downloading http://yann.lecun.com/exdb/mnist/t10k-labels-idx1-ubyte.gz to ./.data/MNIST/raw/t10k-labels-idx1-ubyte.gz\n"
     ]
    },
    {
     "name": "stderr",
     "output_type": "stream",
     "text": [
      "8192it [00:00, 41937.82it/s]            "
     ]
    },
    {
     "name": "stdout",
     "output_type": "stream",
     "text": [
      "Extracting ./.data/MNIST/raw/t10k-labels-idx1-ubyte.gz\n",
      "Processing...\n",
      "Done!\n"
     ]
    },
    {
     "name": "stderr",
     "output_type": "stream",
     "text": [
      "\n"
     ]
    }
   ],
   "source": [
    "train_loader = torch.utils.data.DataLoader(\n",
    "    datasets.MNIST('./.data',\n",
    "                   train=True,\n",
    "                   download=True,\n",
    "                   transform=transforms.Compose([\n",
    "                       transforms.ToTensor(),\n",
    "                       transforms.Normalize((0.1307,), (0.3081,))\n",
    "                   ])),\n",
    "    batch_size=BATCH_SIZE, shuffle=True)\n",
    "test_loader = torch.utils.data.DataLoader(\n",
    "    datasets.MNIST('./.data',\n",
    "                   train=False, \n",
    "                   transform=transforms.Compose([\n",
    "                       transforms.ToTensor(),\n",
    "                       transforms.Normalize((0.1307,), (0.3081,))\n",
    "                   ])),\n",
    "    batch_size=BATCH_SIZE, shuffle=True)"
   ]
  },
  {
   "cell_type": "markdown",
   "metadata": {},
   "source": [
    "## 뉴럴넷으로 Fashion MNIST 학습하기"
   ]
  },
  {
   "cell_type": "code",
   "execution_count": 5,
   "metadata": {},
   "outputs": [],
   "source": [
    "class Net(nn.Module):\n",
    "    def __init__(self):\n",
    "        super(Net, self).__init__()\n",
    "        self.conv1 = nn.Conv2d(1, 10, kernel_size=5)\n",
    "        self.conv2 = nn.Conv2d(10, 20, kernel_size=5)\n",
    "        self.conv2_drop = nn.Dropout2d()\n",
    "        self.fc1 = nn.Linear(320, 50)\n",
    "        self.fc2 = nn.Linear(50, 10)\n",
    "\n",
    "    def forward(self, x):\n",
    "        x = F.relu(F.max_pool2d(self.conv1(x), 2))\n",
    "        x = F.relu(F.max_pool2d(self.conv2_drop(self.conv2(x)), 2))\n",
    "        x = x.view(-1, 320)\n",
    "        x = F.relu(self.fc1(x))\n",
    "        x = F.dropout(x, training=self.training)\n",
    "        x = self.fc2(x)\n",
    "        return F.log_softmax(x, dim=1)"
   ]
  },
  {
   "cell_type": "markdown",
   "metadata": {},
   "source": [
    "## 하이퍼파라미터 \n",
    "\n",
    "`to()` 함수는 모델의 파라미터들을 지정한 곳으로 보내는 역할을 합니다. 일반적으로 CPU 1개만 사용할 경우 필요는 없지만, GPU를 사용하고자 하는 경우 `to(\"cuda\")`로 지정하여 GPU로 보내야 합니다. 지정하지 않을 경우 계속 CPU에 남아 있게 되며 빠른 훈련의 이점을 누리실 수 없습니다.\n",
    "\n",
    "최적화 알고리즘으로 파이토치에 내장되어 있는 `optim.SGD`를 사용하겠습니다."
   ]
  },
  {
   "cell_type": "code",
   "execution_count": 6,
   "metadata": {},
   "outputs": [],
   "source": [
    "model     = Net().to(DEVICE)\n",
    "optimizer = optim.SGD(model.parameters(), lr=0.01, momentum=0.5)"
   ]
  },
  {
   "cell_type": "markdown",
   "metadata": {},
   "source": [
    "## 학습하기"
   ]
  },
  {
   "cell_type": "code",
   "execution_count": 7,
   "metadata": {},
   "outputs": [],
   "source": [
    "def train(model, train_loader, optimizer, epoch):\n",
    "    model.train()\n",
    "    for batch_idx, (data, target) in enumerate(train_loader):\n",
    "        data, target = data.to(DEVICE), target.to(DEVICE)\n",
    "        optimizer.zero_grad()\n",
    "        output = model(data)\n",
    "        loss = F.cross_entropy(output, target)\n",
    "        loss.backward()\n",
    "        optimizer.step()\n",
    "\n",
    "        if batch_idx % 200 == 0:\n",
    "            print('Train Epoch: {} [{}/{} ({:.0f}%)]\\tLoss: {:.6f}'.format(\n",
    "                epoch, batch_idx * len(data), len(train_loader.dataset),\n",
    "                100. * batch_idx / len(train_loader), loss.item()))"
   ]
  },
  {
   "cell_type": "markdown",
   "metadata": {},
   "source": [
    "## 테스트하기"
   ]
  },
  {
   "cell_type": "code",
   "execution_count": 8,
   "metadata": {},
   "outputs": [],
   "source": [
    "def test(model, test_loader):\n",
    "    model.eval()\n",
    "    test_loss = 0\n",
    "    correct = 0\n",
    "    with torch.no_grad():\n",
    "        for data, target in test_loader:\n",
    "            data, target = data.to(DEVICE), target.to(DEVICE)\n",
    "            output = model(data)\n",
    "\n",
    "            # sum up batch loss\n",
    "            test_loss += F.cross_entropy(output, target,\n",
    "                                         size_average=False).item()\n",
    "\n",
    "            # get the index of the max log-probability\n",
    "            pred = output.max(1, keepdim=True)[1]\n",
    "            correct += pred.eq(target.view_as(pred)).sum().item()\n",
    "\n",
    "    test_loss /= len(test_loader.dataset)\n",
    "    test_accuracy = 100. * correct / len(test_loader.dataset)\n",
    "    return test_loss, test_accuracy"
   ]
  },
  {
   "cell_type": "markdown",
   "metadata": {},
   "source": [
    "## 코드 돌려보기\n",
    "\n",
    "자, 이제 모든 준비가 끝났습니다. 코드를 돌려서 실제로 학습이 되는지 확인해봅시다!"
   ]
  },
  {
   "cell_type": "code",
   "execution_count": 9,
   "metadata": {},
   "outputs": [
    {
     "name": "stdout",
     "output_type": "stream",
     "text": [
      "Train Epoch: 1 [0/60000 (0%)]\tLoss: 2.310367\n",
      "Train Epoch: 1 [12800/60000 (21%)]\tLoss: 1.561445\n",
      "Train Epoch: 1 [25600/60000 (43%)]\tLoss: 0.777584\n",
      "Train Epoch: 1 [38400/60000 (64%)]\tLoss: 0.468698\n",
      "Train Epoch: 1 [51200/60000 (85%)]\tLoss: 0.666155\n"
     ]
    },
    {
     "name": "stderr",
     "output_type": "stream",
     "text": [
      "/usr/local/lib/python3.7/dist-packages/torch/nn/_reduction.py:49: UserWarning: size_average and reduce args will be deprecated, please use reduction='sum' instead.\n",
      "  warnings.warn(warning.format(ret))\n"
     ]
    },
    {
     "name": "stdout",
     "output_type": "stream",
     "text": [
      "[1] Test Loss: 0.2048, Accuracy: 93.96%\n",
      "Train Epoch: 2 [0/60000 (0%)]\tLoss: 0.671450\n",
      "Train Epoch: 2 [12800/60000 (21%)]\tLoss: 0.414416\n",
      "Train Epoch: 2 [25600/60000 (43%)]\tLoss: 0.520516\n",
      "Train Epoch: 2 [38400/60000 (64%)]\tLoss: 0.131479\n",
      "Train Epoch: 2 [51200/60000 (85%)]\tLoss: 0.326400\n",
      "[2] Test Loss: 0.1312, Accuracy: 96.02%\n",
      "Train Epoch: 3 [0/60000 (0%)]\tLoss: 0.296757\n",
      "Train Epoch: 3 [12800/60000 (21%)]\tLoss: 0.433390\n",
      "Train Epoch: 3 [25600/60000 (43%)]\tLoss: 0.516062\n",
      "Train Epoch: 3 [38400/60000 (64%)]\tLoss: 0.276350\n",
      "Train Epoch: 3 [51200/60000 (85%)]\tLoss: 0.171822\n",
      "[3] Test Loss: 0.1036, Accuracy: 96.85%\n",
      "Train Epoch: 4 [0/60000 (0%)]\tLoss: 0.263187\n",
      "Train Epoch: 4 [12800/60000 (21%)]\tLoss: 0.143500\n",
      "Train Epoch: 4 [25600/60000 (43%)]\tLoss: 0.279130\n",
      "Train Epoch: 4 [38400/60000 (64%)]\tLoss: 0.571077\n",
      "Train Epoch: 4 [51200/60000 (85%)]\tLoss: 0.229072\n",
      "[4] Test Loss: 0.0907, Accuracy: 97.33%\n",
      "Train Epoch: 5 [0/60000 (0%)]\tLoss: 0.226478\n",
      "Train Epoch: 5 [12800/60000 (21%)]\tLoss: 0.330274\n",
      "Train Epoch: 5 [25600/60000 (43%)]\tLoss: 0.252756\n",
      "Train Epoch: 5 [38400/60000 (64%)]\tLoss: 0.221531\n",
      "Train Epoch: 5 [51200/60000 (85%)]\tLoss: 0.380689\n",
      "[5] Test Loss: 0.0798, Accuracy: 97.52%\n",
      "Train Epoch: 6 [0/60000 (0%)]\tLoss: 0.341045\n",
      "Train Epoch: 6 [12800/60000 (21%)]\tLoss: 0.284714\n",
      "Train Epoch: 6 [25600/60000 (43%)]\tLoss: 0.231775\n",
      "Train Epoch: 6 [38400/60000 (64%)]\tLoss: 0.227325\n",
      "Train Epoch: 6 [51200/60000 (85%)]\tLoss: 0.294356\n",
      "[6] Test Loss: 0.0752, Accuracy: 97.77%\n",
      "Train Epoch: 7 [0/60000 (0%)]\tLoss: 0.311405\n",
      "Train Epoch: 7 [12800/60000 (21%)]\tLoss: 0.113023\n",
      "Train Epoch: 7 [25600/60000 (43%)]\tLoss: 0.207629\n",
      "Train Epoch: 7 [38400/60000 (64%)]\tLoss: 0.175024\n",
      "Train Epoch: 7 [51200/60000 (85%)]\tLoss: 0.134363\n",
      "[7] Test Loss: 0.0678, Accuracy: 97.89%\n",
      "Train Epoch: 8 [0/60000 (0%)]\tLoss: 0.128416\n",
      "Train Epoch: 8 [12800/60000 (21%)]\tLoss: 0.303692\n",
      "Train Epoch: 8 [25600/60000 (43%)]\tLoss: 0.198396\n",
      "Train Epoch: 8 [38400/60000 (64%)]\tLoss: 0.405590\n",
      "Train Epoch: 8 [51200/60000 (85%)]\tLoss: 0.163390\n",
      "[8] Test Loss: 0.0649, Accuracy: 97.93%\n",
      "Train Epoch: 9 [0/60000 (0%)]\tLoss: 0.157690\n",
      "Train Epoch: 9 [12800/60000 (21%)]\tLoss: 0.219720\n",
      "Train Epoch: 9 [25600/60000 (43%)]\tLoss: 0.230057\n",
      "Train Epoch: 9 [38400/60000 (64%)]\tLoss: 0.411045\n",
      "Train Epoch: 9 [51200/60000 (85%)]\tLoss: 0.132362\n",
      "[9] Test Loss: 0.0606, Accuracy: 98.02%\n",
      "Train Epoch: 10 [0/60000 (0%)]\tLoss: 0.151374\n",
      "Train Epoch: 10 [12800/60000 (21%)]\tLoss: 0.260902\n",
      "Train Epoch: 10 [25600/60000 (43%)]\tLoss: 0.360082\n",
      "Train Epoch: 10 [38400/60000 (64%)]\tLoss: 0.297515\n",
      "Train Epoch: 10 [51200/60000 (85%)]\tLoss: 0.198625\n",
      "[10] Test Loss: 0.0565, Accuracy: 98.26%\n",
      "Train Epoch: 11 [0/60000 (0%)]\tLoss: 0.144561\n",
      "Train Epoch: 11 [12800/60000 (21%)]\tLoss: 0.090205\n",
      "Train Epoch: 11 [25600/60000 (43%)]\tLoss: 0.169147\n",
      "Train Epoch: 11 [38400/60000 (64%)]\tLoss: 0.079177\n",
      "Train Epoch: 11 [51200/60000 (85%)]\tLoss: 0.226578\n",
      "[11] Test Loss: 0.0542, Accuracy: 98.19%\n",
      "Train Epoch: 12 [0/60000 (0%)]\tLoss: 0.082201\n",
      "Train Epoch: 12 [12800/60000 (21%)]\tLoss: 0.152055\n",
      "Train Epoch: 12 [25600/60000 (43%)]\tLoss: 0.154196\n",
      "Train Epoch: 12 [38400/60000 (64%)]\tLoss: 0.098271\n",
      "Train Epoch: 12 [51200/60000 (85%)]\tLoss: 0.107346\n",
      "[12] Test Loss: 0.0576, Accuracy: 98.03%\n",
      "Train Epoch: 13 [0/60000 (0%)]\tLoss: 0.028508\n",
      "Train Epoch: 13 [12800/60000 (21%)]\tLoss: 0.118129\n",
      "Train Epoch: 13 [25600/60000 (43%)]\tLoss: 0.149700\n",
      "Train Epoch: 13 [38400/60000 (64%)]\tLoss: 0.178854\n",
      "Train Epoch: 13 [51200/60000 (85%)]\tLoss: 0.063807\n",
      "[13] Test Loss: 0.0560, Accuracy: 98.16%\n",
      "Train Epoch: 14 [0/60000 (0%)]\tLoss: 0.302508\n",
      "Train Epoch: 14 [12800/60000 (21%)]\tLoss: 0.116331\n",
      "Train Epoch: 14 [25600/60000 (43%)]\tLoss: 0.128767\n",
      "Train Epoch: 14 [38400/60000 (64%)]\tLoss: 0.200480\n",
      "Train Epoch: 14 [51200/60000 (85%)]\tLoss: 0.073462\n",
      "[14] Test Loss: 0.0502, Accuracy: 98.43%\n",
      "Train Epoch: 15 [0/60000 (0%)]\tLoss: 0.105761\n",
      "Train Epoch: 15 [12800/60000 (21%)]\tLoss: 0.146694\n",
      "Train Epoch: 15 [25600/60000 (43%)]\tLoss: 0.278601\n",
      "Train Epoch: 15 [38400/60000 (64%)]\tLoss: 0.219571\n",
      "Train Epoch: 15 [51200/60000 (85%)]\tLoss: 0.233366\n",
      "[15] Test Loss: 0.0476, Accuracy: 98.53%\n",
      "Train Epoch: 16 [0/60000 (0%)]\tLoss: 0.094072\n",
      "Train Epoch: 16 [12800/60000 (21%)]\tLoss: 0.180256\n",
      "Train Epoch: 16 [25600/60000 (43%)]\tLoss: 0.103953\n",
      "Train Epoch: 16 [38400/60000 (64%)]\tLoss: 0.115167\n",
      "Train Epoch: 16 [51200/60000 (85%)]\tLoss: 0.228586\n",
      "[16] Test Loss: 0.0480, Accuracy: 98.46%\n",
      "Train Epoch: 17 [0/60000 (0%)]\tLoss: 0.155994\n",
      "Train Epoch: 17 [12800/60000 (21%)]\tLoss: 0.064973\n",
      "Train Epoch: 17 [25600/60000 (43%)]\tLoss: 0.119623\n",
      "Train Epoch: 17 [38400/60000 (64%)]\tLoss: 0.250482\n",
      "Train Epoch: 17 [51200/60000 (85%)]\tLoss: 0.118498\n",
      "[17] Test Loss: 0.0479, Accuracy: 98.56%\n",
      "Train Epoch: 18 [0/60000 (0%)]\tLoss: 0.124574\n",
      "Train Epoch: 18 [12800/60000 (21%)]\tLoss: 0.223436\n",
      "Train Epoch: 18 [25600/60000 (43%)]\tLoss: 0.116306\n",
      "Train Epoch: 18 [38400/60000 (64%)]\tLoss: 0.261214\n",
      "Train Epoch: 18 [51200/60000 (85%)]\tLoss: 0.109524\n",
      "[18] Test Loss: 0.0463, Accuracy: 98.59%\n",
      "Train Epoch: 19 [0/60000 (0%)]\tLoss: 0.118758\n",
      "Train Epoch: 19 [12800/60000 (21%)]\tLoss: 0.118069\n",
      "Train Epoch: 19 [25600/60000 (43%)]\tLoss: 0.148826\n",
      "Train Epoch: 19 [38400/60000 (64%)]\tLoss: 0.114136\n",
      "Train Epoch: 19 [51200/60000 (85%)]\tLoss: 0.093293\n",
      "[19] Test Loss: 0.0429, Accuracy: 98.61%\n",
      "Train Epoch: 20 [0/60000 (0%)]\tLoss: 0.213109\n",
      "Train Epoch: 20 [12800/60000 (21%)]\tLoss: 0.182746\n",
      "Train Epoch: 20 [25600/60000 (43%)]\tLoss: 0.130318\n",
      "Train Epoch: 20 [38400/60000 (64%)]\tLoss: 0.079370\n",
      "Train Epoch: 20 [51200/60000 (85%)]\tLoss: 0.128730\n",
      "[20] Test Loss: 0.0453, Accuracy: 98.54%\n",
      "Train Epoch: 21 [0/60000 (0%)]\tLoss: 0.112446\n",
      "Train Epoch: 21 [12800/60000 (21%)]\tLoss: 0.117752\n",
      "Train Epoch: 21 [25600/60000 (43%)]\tLoss: 0.017564\n",
      "Train Epoch: 21 [38400/60000 (64%)]\tLoss: 0.089932\n",
      "Train Epoch: 21 [51200/60000 (85%)]\tLoss: 0.099270\n",
      "[21] Test Loss: 0.0402, Accuracy: 98.64%\n",
      "Train Epoch: 22 [0/60000 (0%)]\tLoss: 0.100379\n",
      "Train Epoch: 22 [12800/60000 (21%)]\tLoss: 0.268383\n",
      "Train Epoch: 22 [25600/60000 (43%)]\tLoss: 0.093830\n",
      "Train Epoch: 22 [38400/60000 (64%)]\tLoss: 0.200418\n",
      "Train Epoch: 22 [51200/60000 (85%)]\tLoss: 0.114413\n",
      "[22] Test Loss: 0.0403, Accuracy: 98.80%\n",
      "Train Epoch: 23 [0/60000 (0%)]\tLoss: 0.085640\n",
      "Train Epoch: 23 [12800/60000 (21%)]\tLoss: 0.198269\n",
      "Train Epoch: 23 [25600/60000 (43%)]\tLoss: 0.325010\n",
      "Train Epoch: 23 [38400/60000 (64%)]\tLoss: 0.082550\n",
      "Train Epoch: 23 [51200/60000 (85%)]\tLoss: 0.034689\n",
      "[23] Test Loss: 0.0393, Accuracy: 98.68%\n",
      "Train Epoch: 24 [0/60000 (0%)]\tLoss: 0.097181\n",
      "Train Epoch: 24 [12800/60000 (21%)]\tLoss: 0.142287\n",
      "Train Epoch: 24 [25600/60000 (43%)]\tLoss: 0.161179\n",
      "Train Epoch: 24 [38400/60000 (64%)]\tLoss: 0.145425\n",
      "Train Epoch: 24 [51200/60000 (85%)]\tLoss: 0.204838\n",
      "[24] Test Loss: 0.0381, Accuracy: 98.81%\n",
      "Train Epoch: 25 [0/60000 (0%)]\tLoss: 0.090684\n",
      "Train Epoch: 25 [12800/60000 (21%)]\tLoss: 0.240685\n",
      "Train Epoch: 25 [25600/60000 (43%)]\tLoss: 0.145654\n",
      "Train Epoch: 25 [38400/60000 (64%)]\tLoss: 0.139631\n",
      "Train Epoch: 25 [51200/60000 (85%)]\tLoss: 0.128392\n",
      "[25] Test Loss: 0.0396, Accuracy: 98.82%\n",
      "Train Epoch: 26 [0/60000 (0%)]\tLoss: 0.208282\n",
      "Train Epoch: 26 [12800/60000 (21%)]\tLoss: 0.183510\n",
      "Train Epoch: 26 [25600/60000 (43%)]\tLoss: 0.112776\n",
      "Train Epoch: 26 [38400/60000 (64%)]\tLoss: 0.164422\n",
      "Train Epoch: 26 [51200/60000 (85%)]\tLoss: 0.030113\n",
      "[26] Test Loss: 0.0384, Accuracy: 98.77%\n",
      "Train Epoch: 27 [0/60000 (0%)]\tLoss: 0.281701\n",
      "Train Epoch: 27 [12800/60000 (21%)]\tLoss: 0.101867\n",
      "Train Epoch: 27 [25600/60000 (43%)]\tLoss: 0.060860\n",
      "Train Epoch: 27 [38400/60000 (64%)]\tLoss: 0.114283\n",
      "Train Epoch: 27 [51200/60000 (85%)]\tLoss: 0.204523\n",
      "[27] Test Loss: 0.0372, Accuracy: 98.86%\n",
      "Train Epoch: 28 [0/60000 (0%)]\tLoss: 0.260483\n",
      "Train Epoch: 28 [12800/60000 (21%)]\tLoss: 0.074270\n",
      "Train Epoch: 28 [25600/60000 (43%)]\tLoss: 0.107682\n",
      "Train Epoch: 28 [38400/60000 (64%)]\tLoss: 0.048329\n",
      "Train Epoch: 28 [51200/60000 (85%)]\tLoss: 0.148105\n",
      "[28] Test Loss: 0.0378, Accuracy: 98.83%\n",
      "Train Epoch: 29 [0/60000 (0%)]\tLoss: 0.183830\n",
      "Train Epoch: 29 [12800/60000 (21%)]\tLoss: 0.279935\n",
      "Train Epoch: 29 [25600/60000 (43%)]\tLoss: 0.043353\n",
      "Train Epoch: 29 [38400/60000 (64%)]\tLoss: 0.277543\n",
      "Train Epoch: 29 [51200/60000 (85%)]\tLoss: 0.206437\n",
      "[29] Test Loss: 0.0394, Accuracy: 98.83%\n",
      "Train Epoch: 30 [0/60000 (0%)]\tLoss: 0.109485\n",
      "Train Epoch: 30 [12800/60000 (21%)]\tLoss: 0.123457\n"
     ]
    },
    {
     "name": "stdout",
     "output_type": "stream",
     "text": [
      "Train Epoch: 30 [25600/60000 (43%)]\tLoss: 0.060862\n",
      "Train Epoch: 30 [38400/60000 (64%)]\tLoss: 0.071246\n",
      "Train Epoch: 30 [51200/60000 (85%)]\tLoss: 0.053050\n",
      "[30] Test Loss: 0.0382, Accuracy: 98.89%\n",
      "Train Epoch: 31 [0/60000 (0%)]\tLoss: 0.178070\n",
      "Train Epoch: 31 [12800/60000 (21%)]\tLoss: 0.030166\n",
      "Train Epoch: 31 [25600/60000 (43%)]\tLoss: 0.123735\n",
      "Train Epoch: 31 [38400/60000 (64%)]\tLoss: 0.090055\n",
      "Train Epoch: 31 [51200/60000 (85%)]\tLoss: 0.209241\n",
      "[31] Test Loss: 0.0366, Accuracy: 98.88%\n",
      "Train Epoch: 32 [0/60000 (0%)]\tLoss: 0.079730\n",
      "Train Epoch: 32 [12800/60000 (21%)]\tLoss: 0.041189\n",
      "Train Epoch: 32 [25600/60000 (43%)]\tLoss: 0.091911\n",
      "Train Epoch: 32 [38400/60000 (64%)]\tLoss: 0.058561\n",
      "Train Epoch: 32 [51200/60000 (85%)]\tLoss: 0.038800\n",
      "[32] Test Loss: 0.0341, Accuracy: 99.00%\n",
      "Train Epoch: 33 [0/60000 (0%)]\tLoss: 0.079959\n",
      "Train Epoch: 33 [12800/60000 (21%)]\tLoss: 0.095628\n",
      "Train Epoch: 33 [25600/60000 (43%)]\tLoss: 0.071483\n",
      "Train Epoch: 33 [38400/60000 (64%)]\tLoss: 0.076589\n",
      "Train Epoch: 33 [51200/60000 (85%)]\tLoss: 0.174341\n",
      "[33] Test Loss: 0.0374, Accuracy: 98.84%\n",
      "Train Epoch: 34 [0/60000 (0%)]\tLoss: 0.225642\n",
      "Train Epoch: 34 [12800/60000 (21%)]\tLoss: 0.175109\n",
      "Train Epoch: 34 [25600/60000 (43%)]\tLoss: 0.204877\n",
      "Train Epoch: 34 [38400/60000 (64%)]\tLoss: 0.065624\n",
      "Train Epoch: 34 [51200/60000 (85%)]\tLoss: 0.204354\n",
      "[34] Test Loss: 0.0370, Accuracy: 98.86%\n",
      "Train Epoch: 35 [0/60000 (0%)]\tLoss: 0.071737\n",
      "Train Epoch: 35 [12800/60000 (21%)]\tLoss: 0.046370\n",
      "Train Epoch: 35 [25600/60000 (43%)]\tLoss: 0.051241\n",
      "Train Epoch: 35 [38400/60000 (64%)]\tLoss: 0.074773\n",
      "Train Epoch: 35 [51200/60000 (85%)]\tLoss: 0.052720\n",
      "[35] Test Loss: 0.0354, Accuracy: 98.96%\n",
      "Train Epoch: 36 [0/60000 (0%)]\tLoss: 0.120988\n",
      "Train Epoch: 36 [12800/60000 (21%)]\tLoss: 0.192546\n",
      "Train Epoch: 36 [25600/60000 (43%)]\tLoss: 0.244463\n",
      "Train Epoch: 36 [38400/60000 (64%)]\tLoss: 0.017935\n",
      "Train Epoch: 36 [51200/60000 (85%)]\tLoss: 0.108156\n",
      "[36] Test Loss: 0.0362, Accuracy: 98.95%\n",
      "Train Epoch: 37 [0/60000 (0%)]\tLoss: 0.054346\n",
      "Train Epoch: 37 [12800/60000 (21%)]\tLoss: 0.161825\n",
      "Train Epoch: 37 [25600/60000 (43%)]\tLoss: 0.281227\n",
      "Train Epoch: 37 [38400/60000 (64%)]\tLoss: 0.136991\n",
      "Train Epoch: 37 [51200/60000 (85%)]\tLoss: 0.201147\n",
      "[37] Test Loss: 0.0368, Accuracy: 98.93%\n",
      "Train Epoch: 38 [0/60000 (0%)]\tLoss: 0.100624\n",
      "Train Epoch: 38 [12800/60000 (21%)]\tLoss: 0.073039\n",
      "Train Epoch: 38 [25600/60000 (43%)]\tLoss: 0.097792\n",
      "Train Epoch: 38 [38400/60000 (64%)]\tLoss: 0.181854\n",
      "Train Epoch: 38 [51200/60000 (85%)]\tLoss: 0.078020\n",
      "[38] Test Loss: 0.0354, Accuracy: 98.93%\n",
      "Train Epoch: 39 [0/60000 (0%)]\tLoss: 0.075074\n",
      "Train Epoch: 39 [12800/60000 (21%)]\tLoss: 0.201565\n",
      "Train Epoch: 39 [25600/60000 (43%)]\tLoss: 0.178732\n",
      "Train Epoch: 39 [38400/60000 (64%)]\tLoss: 0.045788\n",
      "Train Epoch: 39 [51200/60000 (85%)]\tLoss: 0.206463\n",
      "[39] Test Loss: 0.0325, Accuracy: 99.06%\n",
      "Train Epoch: 40 [0/60000 (0%)]\tLoss: 0.050589\n",
      "Train Epoch: 40 [12800/60000 (21%)]\tLoss: 0.055026\n",
      "Train Epoch: 40 [25600/60000 (43%)]\tLoss: 0.047670\n",
      "Train Epoch: 40 [38400/60000 (64%)]\tLoss: 0.069649\n",
      "Train Epoch: 40 [51200/60000 (85%)]\tLoss: 0.163527\n",
      "[40] Test Loss: 0.0338, Accuracy: 98.89%\n"
     ]
    }
   ],
   "source": [
    "for epoch in range(1, EPOCHS + 1):\n",
    "    train(model, train_loader, optimizer, epoch)\n",
    "    test_loss, test_accuracy = test(model, test_loader)\n",
    "    \n",
    "    print('[{}] Test Loss: {:.4f}, Accuracy: {:.2f}%'.format(\n",
    "          epoch, test_loss, test_accuracy))"
   ]
  }
 ],
 "metadata": {
  "kernelspec": {
   "display_name": "Python 3",
   "language": "python",
   "name": "python3"
  },
  "language_info": {
   "codemirror_mode": {
    "name": "ipython",
    "version": 3
   },
   "file_extension": ".py",
   "mimetype": "text/x-python",
   "name": "python",
   "nbconvert_exporter": "python",
   "pygments_lexer": "ipython3",
   "version": "3.7.0"
  }
 },
 "nbformat": 4,
 "nbformat_minor": 2
}
