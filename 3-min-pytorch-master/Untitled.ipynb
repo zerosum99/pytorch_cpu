{
 "cells": [
  {
   "cell_type": "code",
   "execution_count": 1,
   "metadata": {},
   "outputs": [
    {
     "name": "stderr",
     "output_type": "stream",
     "text": [
      "ERROR:root:File `'check_installation.py'` not found.\n"
     ]
    }
   ],
   "source": [
    "%run check_installation.py"
   ]
  },
  {
   "cell_type": "code",
   "execution_count": 2,
   "metadata": {},
   "outputs": [
    {
     "name": "stdout",
     "output_type": "stream",
     "text": [
      " C 드라이브의 볼륨: Windows\n",
      " 볼륨 일련 번호: 5A74-C7D6\n",
      "\n",
      " C:\\Users\\dahlmoon\\Documents\\GitHub\\pytorch_cpu\\3-min-pytorch-master 디렉터리\n",
      "\n",
      "2019-08-17  오전 05:14    <DIR>          .\n",
      "2019-08-17  오전 05:14    <DIR>          ..\n",
      "2019-07-14  오전 12:34             1,211 .gitignore\n",
      "2019-08-17  오전 05:14    <DIR>          .ipynb_checkpoints\n",
      "2019-08-17  오전 04:57    <DIR>          01-딥러닝과_파이토치\n",
      "2019-08-17  오전 04:57    <DIR>          02-파이토치_시작하기\n",
      "2019-08-17  오전 04:57    <DIR>          03-파이토치로_구현하는_인공_신경망\n",
      "2019-08-17  오전 04:57    <DIR>          04-딥러닝으로_패션_아이템_구분하기\n",
      "2019-08-17  오전 04:57    <DIR>          05-이미지_처리능력이_탁월한_CNN\n",
      "2019-08-17  오전 04:57    <DIR>          06-사람의_지도_없이_학습하는_오토인코더\n",
      "2019-08-17  오전 04:57    <DIR>          07-순차적인_데이터를_처리하는_RNN\n",
      "2019-08-17  오전 04:57    <DIR>          08-딥러닝_해킹하기\n",
      "2019-08-17  오전 04:57    <DIR>          09-경쟁을_통해_학습하는_GAN\n",
      "2019-08-17  오전 04:57    <DIR>          10-주어진_환경과_상호작용을_통해_학습하는_DQN\n",
      "2019-08-17  오전 04:57    <DIR>          11-ONNX로_실제_서비스에_적용하기\n",
      "2019-08-17  오전 04:57    <DIR>          12-C++로_파이토치_이용하기\n",
      "2019-07-14  오전 12:34             1,278 compile_notebooks.py\n",
      "2019-07-14  오전 12:34             1,061 LICENSE\n",
      "2019-07-14  오전 12:34             4,873 README.md\n",
      "2019-08-17  오전 05:14                72 Untitled.ipynb\n",
      "               5개 파일               8,495 바이트\n",
      "              15개 디렉터리  867,216,412,672 바이트 남음\n"
     ]
    }
   ],
   "source": [
    "%ls"
   ]
  },
  {
   "cell_type": "code",
   "execution_count": null,
   "metadata": {},
   "outputs": [],
   "source": []
  }
 ],
 "metadata": {
  "kernelspec": {
   "display_name": "pytorch_cpu",
   "language": "python",
   "name": "pytorch_cpu"
  },
  "language_info": {
   "codemirror_mode": {
    "name": "ipython",
    "version": 3
   },
   "file_extension": ".py",
   "mimetype": "text/x-python",
   "name": "python",
   "nbconvert_exporter": "python",
   "pygments_lexer": "ipython3",
   "version": "3.7.4"
  }
 },
 "nbformat": 4,
 "nbformat_minor": 2
}
