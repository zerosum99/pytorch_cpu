{
 "cells": [
  {
   "cell_type": "markdown",
   "metadata": {},
   "source": [
    "# 9.1 GAN으로 새로운 패션아이템 생성하기\n",
    "*GAN을 이용하여 새로운 패션 아이템을 만들어봅니다*\n",
    "\n",
    "GAN을 구현하기 위해 그 구조를 더 자세히 알아보겠습니다.\n",
    "\n",
    "GAN은 생성자(Generator)와 판별자(Discriminator) 2개의 신경망으로\n",
    "이루어져 있습니다.\n",
    "\n"
   ]
  },
  {
   "cell_type": "markdown",
   "metadata": {},
   "source": [
    "## GAN 구현하기"
   ]
  },
  {
   "cell_type": "code",
   "execution_count": 1,
   "metadata": {},
   "outputs": [],
   "source": [
    "import os\n",
    "import torch\n",
    "import torchvision\n",
    "import torch.nn as nn\n",
    "import torch.optim as optim\n",
    "from torchvision import transforms, datasets\n",
    "from torchvision.utils import save_image"
   ]
  },
  {
   "cell_type": "code",
   "execution_count": 2,
   "metadata": {},
   "outputs": [
    {
     "data": {
      "text/plain": [
       "<torch._C.Generator at 0x7f448fd11bf0>"
      ]
     },
     "execution_count": 2,
     "metadata": {},
     "output_type": "execute_result"
    }
   ],
   "source": [
    "torch.manual_seed(1)    # reproducible"
   ]
  },
  {
   "cell_type": "code",
   "execution_count": 3,
   "metadata": {},
   "outputs": [
    {
     "name": "stdout",
     "output_type": "stream",
     "text": [
      "Using Device: cuda\n"
     ]
    }
   ],
   "source": [
    "# Hyper Parameters\n",
    "EPOCHS = 100\n",
    "BATCH_SIZE = 100\n",
    "USE_CUDA = torch.cuda.is_available()\n",
    "DEVICE = torch.device(\"cuda\" if USE_CUDA else \"cpu\")\n",
    "print(\"Using Device:\", DEVICE)"
   ]
  },
  {
   "cell_type": "code",
   "execution_count": 4,
   "metadata": {},
   "outputs": [
    {
     "name": "stderr",
     "output_type": "stream",
     "text": [
      "\r",
      "0it [00:00, ?it/s]"
     ]
    },
    {
     "name": "stdout",
     "output_type": "stream",
     "text": [
      "Downloading http://fashion-mnist.s3-website.eu-central-1.amazonaws.com/train-images-idx3-ubyte.gz to ./.data/FashionMNIST/raw/train-images-idx3-ubyte.gz\n"
     ]
    },
    {
     "name": "stderr",
     "output_type": "stream",
     "text": [
      "26427392it [00:08, 3068511.07it/s]                              \n"
     ]
    },
    {
     "name": "stdout",
     "output_type": "stream",
     "text": [
      "Extracting ./.data/FashionMNIST/raw/train-images-idx3-ubyte.gz\n"
     ]
    },
    {
     "name": "stderr",
     "output_type": "stream",
     "text": [
      "\r",
      "0it [00:00, ?it/s]"
     ]
    },
    {
     "name": "stdout",
     "output_type": "stream",
     "text": [
      "Downloading http://fashion-mnist.s3-website.eu-central-1.amazonaws.com/train-labels-idx1-ubyte.gz to ./.data/FashionMNIST/raw/train-labels-idx1-ubyte.gz\n"
     ]
    },
    {
     "name": "stderr",
     "output_type": "stream",
     "text": [
      "32768it [00:00, 46015.88it/s]                           \n",
      "0it [00:00, ?it/s]"
     ]
    },
    {
     "name": "stdout",
     "output_type": "stream",
     "text": [
      "Extracting ./.data/FashionMNIST/raw/train-labels-idx1-ubyte.gz\n",
      "Downloading http://fashion-mnist.s3-website.eu-central-1.amazonaws.com/t10k-images-idx3-ubyte.gz to ./.data/FashionMNIST/raw/t10k-images-idx3-ubyte.gz\n"
     ]
    },
    {
     "name": "stderr",
     "output_type": "stream",
     "text": [
      "4423680it [00:02, 1666677.48it/s]                             \n",
      "0it [00:00, ?it/s]"
     ]
    },
    {
     "name": "stdout",
     "output_type": "stream",
     "text": [
      "Extracting ./.data/FashionMNIST/raw/t10k-images-idx3-ubyte.gz\n",
      "Downloading http://fashion-mnist.s3-website.eu-central-1.amazonaws.com/t10k-labels-idx1-ubyte.gz to ./.data/FashionMNIST/raw/t10k-labels-idx1-ubyte.gz\n"
     ]
    },
    {
     "name": "stderr",
     "output_type": "stream",
     "text": [
      "8192it [00:00, 21224.52it/s]            "
     ]
    },
    {
     "name": "stdout",
     "output_type": "stream",
     "text": [
      "Extracting ./.data/FashionMNIST/raw/t10k-labels-idx1-ubyte.gz\n",
      "Processing...\n",
      "Done!\n"
     ]
    },
    {
     "name": "stderr",
     "output_type": "stream",
     "text": [
      "\n"
     ]
    }
   ],
   "source": [
    "# Fashion MNIST digits dataset\n",
    "trainset = datasets.FashionMNIST('./.data',\n",
    "    train=True,\n",
    "    download=True,\n",
    "    transform=transforms.Compose([\n",
    "       transforms.ToTensor(),\n",
    "       transforms.Normalize((0.5,), (0.5,))\n",
    "    ]))\n",
    "train_loader = torch.utils.data.DataLoader(\n",
    "    dataset     = trainset,\n",
    "    batch_size  = BATCH_SIZE,\n",
    "    shuffle     = True)"
   ]
  },
  {
   "cell_type": "code",
   "execution_count": 5,
   "metadata": {},
   "outputs": [],
   "source": [
    "# Discriminator\n",
    "D = nn.Sequential(\n",
    "        nn.Linear(784, 256),\n",
    "        nn.LeakyReLU(0.2),\n",
    "        nn.Linear(256, 256),\n",
    "        nn.LeakyReLU(0.2),\n",
    "        nn.Linear(256, 1),\n",
    "        nn.Sigmoid())"
   ]
  },
  {
   "cell_type": "code",
   "execution_count": 6,
   "metadata": {},
   "outputs": [],
   "source": [
    "# Generator \n",
    "G = nn.Sequential(\n",
    "        nn.Linear(64, 256),\n",
    "        nn.ReLU(),\n",
    "        nn.Linear(256, 256),\n",
    "        nn.ReLU(),\n",
    "        nn.Linear(256, 784),\n",
    "        nn.Tanh())"
   ]
  },
  {
   "cell_type": "code",
   "execution_count": 7,
   "metadata": {},
   "outputs": [],
   "source": [
    "\n",
    "# Device setting\n",
    "D = D.to(DEVICE)\n",
    "G = G.to(DEVICE)\n",
    "\n",
    "# Binary cross entropy loss and optimizer\n",
    "criterion = nn.BCELoss()\n",
    "d_optimizer = optim.Adam(D.parameters(), lr=0.0002)\n",
    "g_optimizer = optim.Adam(G.parameters(), lr=0.0002)"
   ]
  },
  {
   "cell_type": "code",
   "execution_count": 8,
   "metadata": {},
   "outputs": [
    {
     "name": "stdout",
     "output_type": "stream",
     "text": [
      "Epoch [0/100], Step [200/600], d_loss: 0.0787, g_loss: 4.1506, D(x): 0.98, D(G(z)): 0.06\n",
      "Epoch [0/100], Step [400/600], d_loss: 0.2156, g_loss: 4.7861, D(x): 0.93, D(G(z)): 0.10\n",
      "Epoch [0/100], Step [600/600], d_loss: 0.0326, g_loss: 5.2619, D(x): 0.99, D(G(z)): 0.02\n",
      "Epoch [1/100], Step [200/600], d_loss: 0.0656, g_loss: 5.0974, D(x): 0.99, D(G(z)): 0.03\n",
      "Epoch [1/100], Step [400/600], d_loss: 0.1571, g_loss: 3.6610, D(x): 0.95, D(G(z)): 0.07\n",
      "Epoch [1/100], Step [600/600], d_loss: 0.0500, g_loss: 4.5240, D(x): 0.99, D(G(z)): 0.03\n",
      "Epoch [2/100], Step [200/600], d_loss: 0.0376, g_loss: 6.1814, D(x): 0.98, D(G(z)): 0.01\n",
      "Epoch [2/100], Step [400/600], d_loss: 0.0241, g_loss: 6.5856, D(x): 0.99, D(G(z)): 0.01\n",
      "Epoch [2/100], Step [600/600], d_loss: 0.1581, g_loss: 6.0980, D(x): 0.96, D(G(z)): 0.02\n",
      "Epoch [3/100], Step [200/600], d_loss: 0.0641, g_loss: 6.9642, D(x): 0.97, D(G(z)): 0.00\n",
      "Epoch [3/100], Step [400/600], d_loss: 0.1090, g_loss: 4.8299, D(x): 0.96, D(G(z)): 0.02\n",
      "Epoch [3/100], Step [600/600], d_loss: 0.0313, g_loss: 6.9685, D(x): 0.99, D(G(z)): 0.02\n",
      "Epoch [4/100], Step [200/600], d_loss: 0.0850, g_loss: 4.4195, D(x): 0.97, D(G(z)): 0.02\n",
      "Epoch [4/100], Step [400/600], d_loss: 0.1303, g_loss: 4.9543, D(x): 0.97, D(G(z)): 0.06\n",
      "Epoch [4/100], Step [600/600], d_loss: 0.1894, g_loss: 5.1442, D(x): 0.94, D(G(z)): 0.04\n",
      "Epoch [5/100], Step [200/600], d_loss: 0.2450, g_loss: 6.8410, D(x): 0.93, D(G(z)): 0.05\n",
      "Epoch [5/100], Step [400/600], d_loss: 0.3553, g_loss: 4.7668, D(x): 0.95, D(G(z)): 0.15\n",
      "Epoch [5/100], Step [600/600], d_loss: 0.2118, g_loss: 3.4650, D(x): 0.92, D(G(z)): 0.06\n",
      "Epoch [6/100], Step [200/600], d_loss: 0.2083, g_loss: 3.1407, D(x): 0.95, D(G(z)): 0.10\n",
      "Epoch [6/100], Step [400/600], d_loss: 0.1540, g_loss: 6.3076, D(x): 0.95, D(G(z)): 0.03\n",
      "Epoch [6/100], Step [600/600], d_loss: 0.1092, g_loss: 5.9090, D(x): 0.95, D(G(z)): 0.01\n",
      "Epoch [7/100], Step [200/600], d_loss: 0.0912, g_loss: 4.4518, D(x): 0.98, D(G(z)): 0.05\n",
      "Epoch [7/100], Step [400/600], d_loss: 0.1132, g_loss: 4.1672, D(x): 0.96, D(G(z)): 0.04\n",
      "Epoch [7/100], Step [600/600], d_loss: 0.1899, g_loss: 4.1865, D(x): 0.98, D(G(z)): 0.14\n",
      "Epoch [8/100], Step [200/600], d_loss: 0.1007, g_loss: 5.8568, D(x): 0.96, D(G(z)): 0.02\n",
      "Epoch [8/100], Step [400/600], d_loss: 0.2294, g_loss: 4.5870, D(x): 0.95, D(G(z)): 0.05\n",
      "Epoch [8/100], Step [600/600], d_loss: 0.1160, g_loss: 6.2999, D(x): 0.98, D(G(z)): 0.02\n",
      "Epoch [9/100], Step [200/600], d_loss: 0.1227, g_loss: 3.7400, D(x): 0.96, D(G(z)): 0.05\n",
      "Epoch [9/100], Step [400/600], d_loss: 0.1638, g_loss: 4.2894, D(x): 0.96, D(G(z)): 0.08\n",
      "Epoch [9/100], Step [600/600], d_loss: 0.1253, g_loss: 3.7274, D(x): 0.94, D(G(z)): 0.03\n",
      "Epoch [10/100], Step [200/600], d_loss: 0.1965, g_loss: 4.3236, D(x): 0.97, D(G(z)): 0.08\n",
      "Epoch [10/100], Step [400/600], d_loss: 0.2227, g_loss: 4.4192, D(x): 0.94, D(G(z)): 0.07\n",
      "Epoch [10/100], Step [600/600], d_loss: 0.1983, g_loss: 4.7957, D(x): 0.94, D(G(z)): 0.04\n",
      "Epoch [11/100], Step [200/600], d_loss: 0.2676, g_loss: 7.7167, D(x): 0.94, D(G(z)): 0.02\n",
      "Epoch [11/100], Step [400/600], d_loss: 0.1928, g_loss: 3.9627, D(x): 0.94, D(G(z)): 0.08\n",
      "Epoch [11/100], Step [600/600], d_loss: 0.2125, g_loss: 3.9180, D(x): 0.93, D(G(z)): 0.07\n",
      "Epoch [12/100], Step [200/600], d_loss: 0.2259, g_loss: 4.4337, D(x): 0.93, D(G(z)): 0.07\n",
      "Epoch [12/100], Step [400/600], d_loss: 0.1749, g_loss: 4.6158, D(x): 0.96, D(G(z)): 0.07\n",
      "Epoch [12/100], Step [600/600], d_loss: 0.4265, g_loss: 4.6571, D(x): 0.91, D(G(z)): 0.13\n",
      "Epoch [13/100], Step [200/600], d_loss: 0.4758, g_loss: 3.3905, D(x): 0.90, D(G(z)): 0.10\n",
      "Epoch [13/100], Step [400/600], d_loss: 0.3001, g_loss: 4.7539, D(x): 0.92, D(G(z)): 0.06\n",
      "Epoch [13/100], Step [600/600], d_loss: 0.3869, g_loss: 4.1512, D(x): 0.87, D(G(z)): 0.07\n",
      "Epoch [14/100], Step [200/600], d_loss: 0.1500, g_loss: 3.9485, D(x): 0.93, D(G(z)): 0.04\n",
      "Epoch [14/100], Step [400/600], d_loss: 0.3522, g_loss: 4.3756, D(x): 0.92, D(G(z)): 0.09\n",
      "Epoch [14/100], Step [600/600], d_loss: 0.3103, g_loss: 2.1960, D(x): 0.93, D(G(z)): 0.13\n",
      "Epoch [15/100], Step [200/600], d_loss: 0.3663, g_loss: 3.6767, D(x): 0.92, D(G(z)): 0.12\n",
      "Epoch [15/100], Step [400/600], d_loss: 0.3098, g_loss: 4.2520, D(x): 0.88, D(G(z)): 0.10\n",
      "Epoch [15/100], Step [600/600], d_loss: 0.2543, g_loss: 3.3442, D(x): 0.94, D(G(z)): 0.10\n",
      "Epoch [16/100], Step [200/600], d_loss: 0.5308, g_loss: 3.1811, D(x): 0.87, D(G(z)): 0.12\n",
      "Epoch [16/100], Step [400/600], d_loss: 0.3078, g_loss: 3.5513, D(x): 0.92, D(G(z)): 0.13\n",
      "Epoch [16/100], Step [600/600], d_loss: 0.3746, g_loss: 3.3609, D(x): 0.89, D(G(z)): 0.09\n",
      "Epoch [17/100], Step [200/600], d_loss: 0.4462, g_loss: 3.0213, D(x): 0.85, D(G(z)): 0.11\n",
      "Epoch [17/100], Step [400/600], d_loss: 0.3984, g_loss: 3.2388, D(x): 0.89, D(G(z)): 0.13\n",
      "Epoch [17/100], Step [600/600], d_loss: 0.2951, g_loss: 3.4063, D(x): 0.93, D(G(z)): 0.13\n",
      "Epoch [18/100], Step [200/600], d_loss: 0.3307, g_loss: 3.3891, D(x): 0.95, D(G(z)): 0.19\n",
      "Epoch [18/100], Step [400/600], d_loss: 0.5400, g_loss: 3.3652, D(x): 0.87, D(G(z)): 0.15\n",
      "Epoch [18/100], Step [600/600], d_loss: 0.2454, g_loss: 3.7429, D(x): 0.91, D(G(z)): 0.08\n",
      "Epoch [19/100], Step [200/600], d_loss: 0.4310, g_loss: 3.7976, D(x): 0.89, D(G(z)): 0.15\n",
      "Epoch [19/100], Step [400/600], d_loss: 0.5332, g_loss: 4.1109, D(x): 0.87, D(G(z)): 0.12\n",
      "Epoch [19/100], Step [600/600], d_loss: 0.6261, g_loss: 2.8194, D(x): 0.85, D(G(z)): 0.09\n",
      "Epoch [20/100], Step [200/600], d_loss: 0.4504, g_loss: 4.4613, D(x): 0.89, D(G(z)): 0.10\n",
      "Epoch [20/100], Step [400/600], d_loss: 0.5434, g_loss: 2.6971, D(x): 0.88, D(G(z)): 0.16\n",
      "Epoch [20/100], Step [600/600], d_loss: 0.5666, g_loss: 3.3807, D(x): 0.81, D(G(z)): 0.07\n",
      "Epoch [21/100], Step [200/600], d_loss: 0.6655, g_loss: 2.7393, D(x): 0.81, D(G(z)): 0.08\n",
      "Epoch [21/100], Step [400/600], d_loss: 0.1953, g_loss: 4.2922, D(x): 0.95, D(G(z)): 0.10\n",
      "Epoch [21/100], Step [600/600], d_loss: 0.4815, g_loss: 3.8682, D(x): 0.84, D(G(z)): 0.07\n",
      "Epoch [22/100], Step [200/600], d_loss: 0.6585, g_loss: 3.5895, D(x): 0.81, D(G(z)): 0.10\n",
      "Epoch [22/100], Step [400/600], d_loss: 0.4922, g_loss: 3.6637, D(x): 0.84, D(G(z)): 0.08\n",
      "Epoch [22/100], Step [600/600], d_loss: 0.4646, g_loss: 2.8834, D(x): 0.83, D(G(z)): 0.10\n",
      "Epoch [23/100], Step [200/600], d_loss: 0.6495, g_loss: 3.8976, D(x): 0.85, D(G(z)): 0.11\n",
      "Epoch [23/100], Step [400/600], d_loss: 0.5157, g_loss: 2.9286, D(x): 0.86, D(G(z)): 0.15\n",
      "Epoch [23/100], Step [600/600], d_loss: 0.4582, g_loss: 3.5402, D(x): 0.86, D(G(z)): 0.10\n",
      "Epoch [24/100], Step [200/600], d_loss: 0.4669, g_loss: 3.0499, D(x): 0.88, D(G(z)): 0.12\n",
      "Epoch [24/100], Step [400/600], d_loss: 0.4313, g_loss: 3.2897, D(x): 0.88, D(G(z)): 0.14\n",
      "Epoch [24/100], Step [600/600], d_loss: 0.3723, g_loss: 3.5267, D(x): 0.86, D(G(z)): 0.08\n",
      "Epoch [25/100], Step [200/600], d_loss: 0.7438, g_loss: 2.9299, D(x): 0.81, D(G(z)): 0.14\n",
      "Epoch [25/100], Step [400/600], d_loss: 0.9467, g_loss: 2.8801, D(x): 0.71, D(G(z)): 0.14\n",
      "Epoch [25/100], Step [600/600], d_loss: 0.4304, g_loss: 2.9585, D(x): 0.85, D(G(z)): 0.12\n",
      "Epoch [26/100], Step [200/600], d_loss: 0.4419, g_loss: 2.9025, D(x): 0.86, D(G(z)): 0.14\n",
      "Epoch [26/100], Step [400/600], d_loss: 0.3511, g_loss: 4.0447, D(x): 0.93, D(G(z)): 0.18\n",
      "Epoch [26/100], Step [600/600], d_loss: 0.8869, g_loss: 3.2814, D(x): 0.79, D(G(z)): 0.19\n",
      "Epoch [27/100], Step [200/600], d_loss: 0.4022, g_loss: 2.9591, D(x): 0.87, D(G(z)): 0.09\n",
      "Epoch [27/100], Step [400/600], d_loss: 0.5403, g_loss: 3.2807, D(x): 0.78, D(G(z)): 0.08\n",
      "Epoch [27/100], Step [600/600], d_loss: 0.7142, g_loss: 3.1566, D(x): 0.87, D(G(z)): 0.22\n",
      "Epoch [28/100], Step [200/600], d_loss: 0.5385, g_loss: 2.3096, D(x): 0.83, D(G(z)): 0.16\n",
      "Epoch [28/100], Step [400/600], d_loss: 0.4990, g_loss: 2.6239, D(x): 0.86, D(G(z)): 0.17\n",
      "Epoch [28/100], Step [600/600], d_loss: 0.5704, g_loss: 2.9197, D(x): 0.83, D(G(z)): 0.19\n",
      "Epoch [29/100], Step [200/600], d_loss: 0.3670, g_loss: 3.6132, D(x): 0.87, D(G(z)): 0.10\n",
      "Epoch [29/100], Step [400/600], d_loss: 0.5871, g_loss: 2.8933, D(x): 0.84, D(G(z)): 0.22\n",
      "Epoch [29/100], Step [600/600], d_loss: 0.4667, g_loss: 3.1334, D(x): 0.81, D(G(z)): 0.08\n",
      "Epoch [30/100], Step [200/600], d_loss: 0.4846, g_loss: 3.6970, D(x): 0.83, D(G(z)): 0.11\n",
      "Epoch [30/100], Step [400/600], d_loss: 0.7343, g_loss: 2.2464, D(x): 0.84, D(G(z)): 0.21\n"
     ]
    },
    {
     "name": "stdout",
     "output_type": "stream",
     "text": [
      "Epoch [30/100], Step [600/600], d_loss: 0.5736, g_loss: 2.8101, D(x): 0.80, D(G(z)): 0.10\n",
      "Epoch [31/100], Step [200/600], d_loss: 0.5028, g_loss: 3.7064, D(x): 0.81, D(G(z)): 0.07\n",
      "Epoch [31/100], Step [400/600], d_loss: 0.6508, g_loss: 2.7957, D(x): 0.79, D(G(z)): 0.18\n",
      "Epoch [31/100], Step [600/600], d_loss: 0.5380, g_loss: 2.9571, D(x): 0.84, D(G(z)): 0.16\n",
      "Epoch [32/100], Step [200/600], d_loss: 0.4424, g_loss: 2.4877, D(x): 0.87, D(G(z)): 0.17\n",
      "Epoch [32/100], Step [400/600], d_loss: 0.4118, g_loss: 2.5834, D(x): 0.90, D(G(z)): 0.17\n",
      "Epoch [32/100], Step [600/600], d_loss: 0.7510, g_loss: 2.4698, D(x): 0.73, D(G(z)): 0.12\n",
      "Epoch [33/100], Step [200/600], d_loss: 0.6722, g_loss: 2.7541, D(x): 0.80, D(G(z)): 0.15\n",
      "Epoch [33/100], Step [400/600], d_loss: 0.4703, g_loss: 3.2515, D(x): 0.84, D(G(z)): 0.13\n",
      "Epoch [33/100], Step [600/600], d_loss: 0.8260, g_loss: 2.3634, D(x): 0.74, D(G(z)): 0.19\n",
      "Epoch [34/100], Step [200/600], d_loss: 0.5580, g_loss: 2.2795, D(x): 0.83, D(G(z)): 0.17\n",
      "Epoch [34/100], Step [400/600], d_loss: 0.3844, g_loss: 3.7353, D(x): 0.91, D(G(z)): 0.16\n",
      "Epoch [34/100], Step [600/600], d_loss: 0.4763, g_loss: 2.9245, D(x): 0.80, D(G(z)): 0.09\n",
      "Epoch [35/100], Step [200/600], d_loss: 0.7082, g_loss: 3.0290, D(x): 0.75, D(G(z)): 0.14\n",
      "Epoch [35/100], Step [400/600], d_loss: 0.6366, g_loss: 2.4441, D(x): 0.75, D(G(z)): 0.13\n",
      "Epoch [35/100], Step [600/600], d_loss: 0.3602, g_loss: 2.5511, D(x): 0.92, D(G(z)): 0.19\n",
      "Epoch [36/100], Step [200/600], d_loss: 0.6494, g_loss: 2.6098, D(x): 0.75, D(G(z)): 0.14\n",
      "Epoch [36/100], Step [400/600], d_loss: 0.7318, g_loss: 2.2873, D(x): 0.84, D(G(z)): 0.24\n",
      "Epoch [36/100], Step [600/600], d_loss: 0.4189, g_loss: 2.6667, D(x): 0.88, D(G(z)): 0.13\n",
      "Epoch [37/100], Step [200/600], d_loss: 0.5482, g_loss: 3.0558, D(x): 0.81, D(G(z)): 0.16\n",
      "Epoch [37/100], Step [400/600], d_loss: 0.6997, g_loss: 2.7520, D(x): 0.79, D(G(z)): 0.14\n",
      "Epoch [37/100], Step [600/600], d_loss: 0.2648, g_loss: 3.6700, D(x): 0.92, D(G(z)): 0.13\n",
      "Epoch [38/100], Step [200/600], d_loss: 0.3936, g_loss: 1.9997, D(x): 0.87, D(G(z)): 0.16\n",
      "Epoch [38/100], Step [400/600], d_loss: 0.4968, g_loss: 2.8145, D(x): 0.82, D(G(z)): 0.11\n",
      "Epoch [38/100], Step [600/600], d_loss: 0.4657, g_loss: 2.7654, D(x): 0.83, D(G(z)): 0.13\n",
      "Epoch [39/100], Step [200/600], d_loss: 0.4711, g_loss: 2.8458, D(x): 0.90, D(G(z)): 0.21\n",
      "Epoch [39/100], Step [400/600], d_loss: 0.4008, g_loss: 3.7521, D(x): 0.85, D(G(z)): 0.10\n",
      "Epoch [39/100], Step [600/600], d_loss: 0.4650, g_loss: 2.8507, D(x): 0.91, D(G(z)): 0.22\n",
      "Epoch [40/100], Step [200/600], d_loss: 0.3269, g_loss: 2.9937, D(x): 0.91, D(G(z)): 0.15\n",
      "Epoch [40/100], Step [400/600], d_loss: 0.5217, g_loss: 3.0867, D(x): 0.80, D(G(z)): 0.13\n",
      "Epoch [40/100], Step [600/600], d_loss: 0.5557, g_loss: 3.2619, D(x): 0.79, D(G(z)): 0.10\n",
      "Epoch [41/100], Step [200/600], d_loss: 0.4923, g_loss: 2.7842, D(x): 0.81, D(G(z)): 0.11\n",
      "Epoch [41/100], Step [400/600], d_loss: 0.4994, g_loss: 3.3219, D(x): 0.83, D(G(z)): 0.13\n",
      "Epoch [41/100], Step [600/600], d_loss: 0.4599, g_loss: 2.8885, D(x): 0.90, D(G(z)): 0.23\n",
      "Epoch [42/100], Step [200/600], d_loss: 0.6313, g_loss: 3.1359, D(x): 0.87, D(G(z)): 0.21\n",
      "Epoch [42/100], Step [400/600], d_loss: 0.5508, g_loss: 2.9586, D(x): 0.82, D(G(z)): 0.11\n",
      "Epoch [42/100], Step [600/600], d_loss: 0.6769, g_loss: 2.4840, D(x): 0.75, D(G(z)): 0.10\n",
      "Epoch [43/100], Step [200/600], d_loss: 0.4893, g_loss: 2.3898, D(x): 0.86, D(G(z)): 0.18\n",
      "Epoch [43/100], Step [400/600], d_loss: 0.4797, g_loss: 2.3459, D(x): 0.82, D(G(z)): 0.13\n",
      "Epoch [43/100], Step [600/600], d_loss: 0.4791, g_loss: 1.9886, D(x): 0.86, D(G(z)): 0.19\n",
      "Epoch [44/100], Step [200/600], d_loss: 0.3527, g_loss: 3.6642, D(x): 0.88, D(G(z)): 0.11\n",
      "Epoch [44/100], Step [400/600], d_loss: 0.3834, g_loss: 2.7381, D(x): 0.91, D(G(z)): 0.18\n",
      "Epoch [44/100], Step [600/600], d_loss: 0.6438, g_loss: 2.4093, D(x): 0.88, D(G(z)): 0.27\n",
      "Epoch [45/100], Step [200/600], d_loss: 0.5501, g_loss: 2.8851, D(x): 0.90, D(G(z)): 0.25\n",
      "Epoch [45/100], Step [400/600], d_loss: 0.5142, g_loss: 2.8745, D(x): 0.84, D(G(z)): 0.15\n",
      "Epoch [45/100], Step [600/600], d_loss: 0.4721, g_loss: 2.1990, D(x): 0.88, D(G(z)): 0.19\n",
      "Epoch [46/100], Step [200/600], d_loss: 0.5641, g_loss: 2.8566, D(x): 0.83, D(G(z)): 0.17\n",
      "Epoch [46/100], Step [400/600], d_loss: 0.6218, g_loss: 3.3245, D(x): 0.83, D(G(z)): 0.24\n",
      "Epoch [46/100], Step [600/600], d_loss: 0.6173, g_loss: 2.4566, D(x): 0.83, D(G(z)): 0.21\n",
      "Epoch [47/100], Step [200/600], d_loss: 0.5530, g_loss: 2.5028, D(x): 0.87, D(G(z)): 0.23\n",
      "Epoch [47/100], Step [400/600], d_loss: 0.8854, g_loss: 2.5633, D(x): 0.81, D(G(z)): 0.29\n",
      "Epoch [47/100], Step [600/600], d_loss: 0.5736, g_loss: 3.0705, D(x): 0.85, D(G(z)): 0.17\n",
      "Epoch [48/100], Step [200/600], d_loss: 0.5449, g_loss: 2.8489, D(x): 0.83, D(G(z)): 0.18\n",
      "Epoch [48/100], Step [400/600], d_loss: 0.6590, g_loss: 2.8622, D(x): 0.77, D(G(z)): 0.17\n",
      "Epoch [48/100], Step [600/600], d_loss: 0.7175, g_loss: 2.1557, D(x): 0.77, D(G(z)): 0.19\n",
      "Epoch [49/100], Step [200/600], d_loss: 0.5540, g_loss: 2.1977, D(x): 0.86, D(G(z)): 0.21\n",
      "Epoch [49/100], Step [400/600], d_loss: 0.6489, g_loss: 2.4967, D(x): 0.84, D(G(z)): 0.25\n",
      "Epoch [49/100], Step [600/600], d_loss: 0.5870, g_loss: 2.5856, D(x): 0.82, D(G(z)): 0.20\n",
      "Epoch [50/100], Step [200/600], d_loss: 0.5164, g_loss: 2.3382, D(x): 0.87, D(G(z)): 0.21\n",
      "Epoch [50/100], Step [400/600], d_loss: 0.8033, g_loss: 2.3014, D(x): 0.72, D(G(z)): 0.17\n",
      "Epoch [50/100], Step [600/600], d_loss: 0.8258, g_loss: 2.7172, D(x): 0.76, D(G(z)): 0.18\n",
      "Epoch [51/100], Step [200/600], d_loss: 0.7045, g_loss: 1.7460, D(x): 0.79, D(G(z)): 0.23\n",
      "Epoch [51/100], Step [400/600], d_loss: 0.6292, g_loss: 2.7456, D(x): 0.83, D(G(z)): 0.17\n",
      "Epoch [51/100], Step [600/600], d_loss: 0.8915, g_loss: 3.0193, D(x): 0.69, D(G(z)): 0.12\n",
      "Epoch [52/100], Step [200/600], d_loss: 0.6594, g_loss: 2.7342, D(x): 0.91, D(G(z)): 0.30\n",
      "Epoch [52/100], Step [400/600], d_loss: 0.5980, g_loss: 2.8947, D(x): 0.79, D(G(z)): 0.14\n",
      "Epoch [52/100], Step [600/600], d_loss: 0.8133, g_loss: 2.4020, D(x): 0.77, D(G(z)): 0.23\n",
      "Epoch [53/100], Step [200/600], d_loss: 0.5583, g_loss: 2.6996, D(x): 0.82, D(G(z)): 0.14\n",
      "Epoch [53/100], Step [400/600], d_loss: 0.8307, g_loss: 2.1513, D(x): 0.77, D(G(z)): 0.27\n",
      "Epoch [53/100], Step [600/600], d_loss: 0.6789, g_loss: 2.0341, D(x): 0.81, D(G(z)): 0.22\n",
      "Epoch [54/100], Step [200/600], d_loss: 0.7146, g_loss: 2.2403, D(x): 0.73, D(G(z)): 0.14\n",
      "Epoch [54/100], Step [400/600], d_loss: 0.5241, g_loss: 2.3787, D(x): 0.80, D(G(z)): 0.15\n",
      "Epoch [54/100], Step [600/600], d_loss: 0.6304, g_loss: 1.5708, D(x): 0.83, D(G(z)): 0.26\n",
      "Epoch [55/100], Step [200/600], d_loss: 0.7945, g_loss: 2.7748, D(x): 0.70, D(G(z)): 0.15\n",
      "Epoch [55/100], Step [400/600], d_loss: 0.7019, g_loss: 1.7262, D(x): 0.76, D(G(z)): 0.19\n",
      "Epoch [55/100], Step [600/600], d_loss: 0.6129, g_loss: 2.6081, D(x): 0.82, D(G(z)): 0.24\n",
      "Epoch [56/100], Step [200/600], d_loss: 0.8178, g_loss: 2.5105, D(x): 0.75, D(G(z)): 0.21\n",
      "Epoch [56/100], Step [400/600], d_loss: 0.6320, g_loss: 2.2701, D(x): 0.77, D(G(z)): 0.15\n",
      "Epoch [56/100], Step [600/600], d_loss: 0.4877, g_loss: 2.7922, D(x): 0.86, D(G(z)): 0.21\n",
      "Epoch [57/100], Step [200/600], d_loss: 0.6353, g_loss: 2.8568, D(x): 0.76, D(G(z)): 0.12\n",
      "Epoch [57/100], Step [400/600], d_loss: 0.6107, g_loss: 2.5361, D(x): 0.82, D(G(z)): 0.23\n",
      "Epoch [57/100], Step [600/600], d_loss: 0.7215, g_loss: 2.3024, D(x): 0.75, D(G(z)): 0.19\n",
      "Epoch [58/100], Step [200/600], d_loss: 0.7068, g_loss: 2.1828, D(x): 0.80, D(G(z)): 0.25\n",
      "Epoch [58/100], Step [400/600], d_loss: 0.8305, g_loss: 2.0106, D(x): 0.77, D(G(z)): 0.29\n",
      "Epoch [58/100], Step [600/600], d_loss: 0.6946, g_loss: 2.8450, D(x): 0.70, D(G(z)): 0.11\n",
      "Epoch [59/100], Step [200/600], d_loss: 0.4576, g_loss: 2.5408, D(x): 0.85, D(G(z)): 0.16\n",
      "Epoch [59/100], Step [400/600], d_loss: 0.6791, g_loss: 2.1861, D(x): 0.76, D(G(z)): 0.16\n",
      "Epoch [59/100], Step [600/600], d_loss: 0.4857, g_loss: 2.1192, D(x): 0.84, D(G(z)): 0.19\n",
      "Epoch [60/100], Step [200/600], d_loss: 0.8066, g_loss: 2.0011, D(x): 0.75, D(G(z)): 0.21\n",
      "Epoch [60/100], Step [400/600], d_loss: 0.4817, g_loss: 2.6365, D(x): 0.83, D(G(z)): 0.16\n",
      "Epoch [60/100], Step [600/600], d_loss: 1.1641, g_loss: 2.6216, D(x): 0.66, D(G(z)): 0.22\n",
      "Epoch [61/100], Step [200/600], d_loss: 0.7387, g_loss: 2.3692, D(x): 0.76, D(G(z)): 0.23\n"
     ]
    },
    {
     "name": "stdout",
     "output_type": "stream",
     "text": [
      "Epoch [61/100], Step [400/600], d_loss: 0.9973, g_loss: 2.8761, D(x): 0.73, D(G(z)): 0.21\n",
      "Epoch [61/100], Step [600/600], d_loss: 0.5597, g_loss: 3.2259, D(x): 0.87, D(G(z)): 0.24\n",
      "Epoch [62/100], Step [200/600], d_loss: 0.9815, g_loss: 1.9172, D(x): 0.71, D(G(z)): 0.25\n",
      "Epoch [62/100], Step [400/600], d_loss: 0.7774, g_loss: 2.0705, D(x): 0.71, D(G(z)): 0.16\n",
      "Epoch [62/100], Step [600/600], d_loss: 0.7258, g_loss: 2.2306, D(x): 0.83, D(G(z)): 0.28\n",
      "Epoch [63/100], Step [200/600], d_loss: 0.7889, g_loss: 2.1573, D(x): 0.70, D(G(z)): 0.15\n",
      "Epoch [63/100], Step [400/600], d_loss: 0.5854, g_loss: 2.8319, D(x): 0.82, D(G(z)): 0.18\n",
      "Epoch [63/100], Step [600/600], d_loss: 0.7550, g_loss: 3.0140, D(x): 0.77, D(G(z)): 0.18\n",
      "Epoch [64/100], Step [200/600], d_loss: 0.8088, g_loss: 3.1151, D(x): 0.76, D(G(z)): 0.22\n",
      "Epoch [64/100], Step [400/600], d_loss: 0.7828, g_loss: 2.3200, D(x): 0.71, D(G(z)): 0.17\n",
      "Epoch [64/100], Step [600/600], d_loss: 0.7833, g_loss: 2.2829, D(x): 0.79, D(G(z)): 0.27\n",
      "Epoch [65/100], Step [200/600], d_loss: 0.6672, g_loss: 2.3168, D(x): 0.79, D(G(z)): 0.21\n",
      "Epoch [65/100], Step [400/600], d_loss: 0.5611, g_loss: 2.0441, D(x): 0.80, D(G(z)): 0.20\n",
      "Epoch [65/100], Step [600/600], d_loss: 0.7871, g_loss: 1.7177, D(x): 0.79, D(G(z)): 0.29\n",
      "Epoch [66/100], Step [200/600], d_loss: 0.6754, g_loss: 2.2386, D(x): 0.79, D(G(z)): 0.23\n",
      "Epoch [66/100], Step [400/600], d_loss: 0.5974, g_loss: 2.0712, D(x): 0.78, D(G(z)): 0.19\n",
      "Epoch [66/100], Step [600/600], d_loss: 0.7797, g_loss: 2.5513, D(x): 0.72, D(G(z)): 0.18\n",
      "Epoch [67/100], Step [200/600], d_loss: 0.8166, g_loss: 2.3050, D(x): 0.73, D(G(z)): 0.21\n",
      "Epoch [67/100], Step [400/600], d_loss: 0.8455, g_loss: 1.9247, D(x): 0.73, D(G(z)): 0.22\n",
      "Epoch [67/100], Step [600/600], d_loss: 0.8843, g_loss: 1.9625, D(x): 0.78, D(G(z)): 0.31\n",
      "Epoch [68/100], Step [200/600], d_loss: 0.8341, g_loss: 2.2858, D(x): 0.66, D(G(z)): 0.15\n",
      "Epoch [68/100], Step [400/600], d_loss: 0.8814, g_loss: 2.5744, D(x): 0.78, D(G(z)): 0.26\n",
      "Epoch [68/100], Step [600/600], d_loss: 0.9402, g_loss: 2.2109, D(x): 0.72, D(G(z)): 0.25\n",
      "Epoch [69/100], Step [200/600], d_loss: 0.8859, g_loss: 1.8589, D(x): 0.80, D(G(z)): 0.34\n",
      "Epoch [69/100], Step [400/600], d_loss: 1.1010, g_loss: 1.7917, D(x): 0.73, D(G(z)): 0.35\n",
      "Epoch [69/100], Step [600/600], d_loss: 0.8336, g_loss: 2.0538, D(x): 0.76, D(G(z)): 0.29\n",
      "Epoch [70/100], Step [200/600], d_loss: 0.6562, g_loss: 1.9388, D(x): 0.78, D(G(z)): 0.19\n",
      "Epoch [70/100], Step [400/600], d_loss: 0.6752, g_loss: 2.1560, D(x): 0.80, D(G(z)): 0.24\n",
      "Epoch [70/100], Step [600/600], d_loss: 0.5649, g_loss: 2.6818, D(x): 0.82, D(G(z)): 0.19\n",
      "Epoch [71/100], Step [200/600], d_loss: 0.6391, g_loss: 2.3606, D(x): 0.80, D(G(z)): 0.20\n",
      "Epoch [71/100], Step [400/600], d_loss: 1.1834, g_loss: 2.4686, D(x): 0.69, D(G(z)): 0.32\n",
      "Epoch [71/100], Step [600/600], d_loss: 0.6769, g_loss: 2.9032, D(x): 0.77, D(G(z)): 0.21\n",
      "Epoch [72/100], Step [200/600], d_loss: 1.0312, g_loss: 1.8052, D(x): 0.66, D(G(z)): 0.26\n",
      "Epoch [72/100], Step [400/600], d_loss: 1.0099, g_loss: 2.1026, D(x): 0.77, D(G(z)): 0.32\n",
      "Epoch [72/100], Step [600/600], d_loss: 0.7794, g_loss: 1.8779, D(x): 0.71, D(G(z)): 0.20\n",
      "Epoch [73/100], Step [200/600], d_loss: 0.7900, g_loss: 2.1821, D(x): 0.74, D(G(z)): 0.25\n",
      "Epoch [73/100], Step [400/600], d_loss: 0.5329, g_loss: 2.5052, D(x): 0.86, D(G(z)): 0.22\n",
      "Epoch [73/100], Step [600/600], d_loss: 0.5456, g_loss: 2.3821, D(x): 0.83, D(G(z)): 0.19\n",
      "Epoch [74/100], Step [200/600], d_loss: 0.7718, g_loss: 1.8728, D(x): 0.78, D(G(z)): 0.28\n",
      "Epoch [74/100], Step [400/600], d_loss: 0.8062, g_loss: 2.2049, D(x): 0.72, D(G(z)): 0.22\n",
      "Epoch [74/100], Step [600/600], d_loss: 0.6960, g_loss: 1.6878, D(x): 0.80, D(G(z)): 0.27\n",
      "Epoch [75/100], Step [200/600], d_loss: 0.7569, g_loss: 2.0632, D(x): 0.73, D(G(z)): 0.21\n",
      "Epoch [75/100], Step [400/600], d_loss: 0.6159, g_loss: 2.3796, D(x): 0.82, D(G(z)): 0.26\n",
      "Epoch [75/100], Step [600/600], d_loss: 0.7795, g_loss: 2.4644, D(x): 0.69, D(G(z)): 0.18\n",
      "Epoch [76/100], Step [200/600], d_loss: 0.7299, g_loss: 2.1992, D(x): 0.81, D(G(z)): 0.25\n",
      "Epoch [76/100], Step [400/600], d_loss: 0.9521, g_loss: 2.1210, D(x): 0.75, D(G(z)): 0.33\n",
      "Epoch [76/100], Step [600/600], d_loss: 0.9014, g_loss: 2.2860, D(x): 0.77, D(G(z)): 0.28\n",
      "Epoch [77/100], Step [200/600], d_loss: 0.7484, g_loss: 2.1562, D(x): 0.76, D(G(z)): 0.24\n",
      "Epoch [77/100], Step [400/600], d_loss: 0.7104, g_loss: 1.6772, D(x): 0.79, D(G(z)): 0.26\n",
      "Epoch [77/100], Step [600/600], d_loss: 0.6114, g_loss: 1.5497, D(x): 0.82, D(G(z)): 0.24\n",
      "Epoch [78/100], Step [200/600], d_loss: 0.6991, g_loss: 1.9616, D(x): 0.80, D(G(z)): 0.27\n",
      "Epoch [78/100], Step [400/600], d_loss: 0.5768, g_loss: 1.8617, D(x): 0.80, D(G(z)): 0.20\n",
      "Epoch [78/100], Step [600/600], d_loss: 0.5998, g_loss: 1.9668, D(x): 0.80, D(G(z)): 0.21\n",
      "Epoch [79/100], Step [200/600], d_loss: 0.6500, g_loss: 1.6905, D(x): 0.82, D(G(z)): 0.26\n",
      "Epoch [79/100], Step [400/600], d_loss: 0.7683, g_loss: 2.4840, D(x): 0.74, D(G(z)): 0.23\n",
      "Epoch [79/100], Step [600/600], d_loss: 0.6214, g_loss: 2.1872, D(x): 0.81, D(G(z)): 0.26\n",
      "Epoch [80/100], Step [200/600], d_loss: 0.6392, g_loss: 2.0616, D(x): 0.75, D(G(z)): 0.17\n",
      "Epoch [80/100], Step [400/600], d_loss: 0.5256, g_loss: 2.1704, D(x): 0.82, D(G(z)): 0.21\n",
      "Epoch [80/100], Step [600/600], d_loss: 1.0950, g_loss: 1.5804, D(x): 0.73, D(G(z)): 0.32\n",
      "Epoch [81/100], Step [200/600], d_loss: 0.6317, g_loss: 2.5199, D(x): 0.82, D(G(z)): 0.22\n",
      "Epoch [81/100], Step [400/600], d_loss: 0.8751, g_loss: 2.0601, D(x): 0.84, D(G(z)): 0.34\n",
      "Epoch [81/100], Step [600/600], d_loss: 0.7656, g_loss: 1.9939, D(x): 0.74, D(G(z)): 0.24\n",
      "Epoch [82/100], Step [200/600], d_loss: 1.0459, g_loss: 1.7681, D(x): 0.69, D(G(z)): 0.25\n",
      "Epoch [82/100], Step [400/600], d_loss: 0.7828, g_loss: 2.1891, D(x): 0.73, D(G(z)): 0.21\n",
      "Epoch [82/100], Step [600/600], d_loss: 0.8005, g_loss: 2.3678, D(x): 0.72, D(G(z)): 0.24\n",
      "Epoch [83/100], Step [200/600], d_loss: 0.8111, g_loss: 1.7620, D(x): 0.80, D(G(z)): 0.32\n",
      "Epoch [83/100], Step [400/600], d_loss: 0.7252, g_loss: 2.3101, D(x): 0.82, D(G(z)): 0.24\n",
      "Epoch [83/100], Step [600/600], d_loss: 0.7177, g_loss: 2.4474, D(x): 0.77, D(G(z)): 0.19\n",
      "Epoch [84/100], Step [200/600], d_loss: 0.9098, g_loss: 1.9818, D(x): 0.72, D(G(z)): 0.26\n",
      "Epoch [84/100], Step [400/600], d_loss: 0.7574, g_loss: 1.6871, D(x): 0.76, D(G(z)): 0.25\n",
      "Epoch [84/100], Step [600/600], d_loss: 0.8107, g_loss: 2.1725, D(x): 0.75, D(G(z)): 0.24\n",
      "Epoch [85/100], Step [200/600], d_loss: 0.6158, g_loss: 2.3403, D(x): 0.78, D(G(z)): 0.18\n",
      "Epoch [85/100], Step [400/600], d_loss: 0.5934, g_loss: 2.2655, D(x): 0.84, D(G(z)): 0.22\n",
      "Epoch [85/100], Step [600/600], d_loss: 0.7513, g_loss: 2.1467, D(x): 0.76, D(G(z)): 0.24\n",
      "Epoch [86/100], Step [200/600], d_loss: 1.0098, g_loss: 1.7394, D(x): 0.76, D(G(z)): 0.31\n",
      "Epoch [86/100], Step [400/600], d_loss: 1.0568, g_loss: 1.9811, D(x): 0.72, D(G(z)): 0.32\n",
      "Epoch [86/100], Step [600/600], d_loss: 0.7181, g_loss: 1.8037, D(x): 0.81, D(G(z)): 0.30\n",
      "Epoch [87/100], Step [200/600], d_loss: 0.6905, g_loss: 2.0376, D(x): 0.80, D(G(z)): 0.23\n",
      "Epoch [87/100], Step [400/600], d_loss: 0.8590, g_loss: 1.9530, D(x): 0.77, D(G(z)): 0.28\n",
      "Epoch [87/100], Step [600/600], d_loss: 0.7231, g_loss: 2.3664, D(x): 0.77, D(G(z)): 0.28\n",
      "Epoch [88/100], Step [200/600], d_loss: 0.7109, g_loss: 1.7531, D(x): 0.81, D(G(z)): 0.30\n",
      "Epoch [88/100], Step [400/600], d_loss: 0.7651, g_loss: 1.6456, D(x): 0.77, D(G(z)): 0.29\n",
      "Epoch [88/100], Step [600/600], d_loss: 0.7218, g_loss: 2.1285, D(x): 0.74, D(G(z)): 0.24\n",
      "Epoch [89/100], Step [200/600], d_loss: 0.7109, g_loss: 1.3709, D(x): 0.81, D(G(z)): 0.31\n",
      "Epoch [89/100], Step [400/600], d_loss: 0.6825, g_loss: 1.6596, D(x): 0.76, D(G(z)): 0.21\n",
      "Epoch [89/100], Step [600/600], d_loss: 0.6925, g_loss: 1.7741, D(x): 0.76, D(G(z)): 0.24\n",
      "Epoch [90/100], Step [200/600], d_loss: 0.7440, g_loss: 1.7874, D(x): 0.72, D(G(z)): 0.22\n",
      "Epoch [90/100], Step [400/600], d_loss: 0.6042, g_loss: 2.3325, D(x): 0.79, D(G(z)): 0.23\n",
      "Epoch [90/100], Step [600/600], d_loss: 0.5725, g_loss: 2.4630, D(x): 0.80, D(G(z)): 0.21\n",
      "Epoch [91/100], Step [200/600], d_loss: 0.7155, g_loss: 2.1033, D(x): 0.78, D(G(z)): 0.26\n",
      "Epoch [91/100], Step [400/600], d_loss: 0.8821, g_loss: 1.5430, D(x): 0.74, D(G(z)): 0.30\n",
      "Epoch [91/100], Step [600/600], d_loss: 0.8353, g_loss: 2.5022, D(x): 0.75, D(G(z)): 0.21\n"
     ]
    },
    {
     "name": "stdout",
     "output_type": "stream",
     "text": [
      "Epoch [92/100], Step [200/600], d_loss: 0.7545, g_loss: 1.8934, D(x): 0.72, D(G(z)): 0.19\n",
      "Epoch [92/100], Step [400/600], d_loss: 0.8663, g_loss: 1.8379, D(x): 0.72, D(G(z)): 0.26\n",
      "Epoch [92/100], Step [600/600], d_loss: 0.6683, g_loss: 2.8028, D(x): 0.74, D(G(z)): 0.14\n",
      "Epoch [93/100], Step [200/600], d_loss: 0.8399, g_loss: 1.3640, D(x): 0.80, D(G(z)): 0.34\n",
      "Epoch [93/100], Step [400/600], d_loss: 0.8975, g_loss: 1.6973, D(x): 0.69, D(G(z)): 0.22\n",
      "Epoch [93/100], Step [600/600], d_loss: 0.8928, g_loss: 1.9126, D(x): 0.81, D(G(z)): 0.32\n",
      "Epoch [94/100], Step [200/600], d_loss: 0.6605, g_loss: 1.5847, D(x): 0.83, D(G(z)): 0.28\n",
      "Epoch [94/100], Step [400/600], d_loss: 1.0173, g_loss: 1.5576, D(x): 0.71, D(G(z)): 0.37\n",
      "Epoch [94/100], Step [600/600], d_loss: 0.7937, g_loss: 2.1991, D(x): 0.76, D(G(z)): 0.25\n",
      "Epoch [95/100], Step [200/600], d_loss: 0.7031, g_loss: 1.6621, D(x): 0.75, D(G(z)): 0.24\n",
      "Epoch [95/100], Step [400/600], d_loss: 0.7104, g_loss: 2.2526, D(x): 0.74, D(G(z)): 0.22\n",
      "Epoch [95/100], Step [600/600], d_loss: 0.5081, g_loss: 2.2593, D(x): 0.85, D(G(z)): 0.22\n",
      "Epoch [96/100], Step [200/600], d_loss: 0.7492, g_loss: 2.2479, D(x): 0.80, D(G(z)): 0.26\n",
      "Epoch [96/100], Step [400/600], d_loss: 0.9099, g_loss: 2.2725, D(x): 0.70, D(G(z)): 0.25\n",
      "Epoch [96/100], Step [600/600], d_loss: 0.7022, g_loss: 2.4435, D(x): 0.74, D(G(z)): 0.17\n",
      "Epoch [97/100], Step [200/600], d_loss: 0.9358, g_loss: 1.8359, D(x): 0.76, D(G(z)): 0.34\n",
      "Epoch [97/100], Step [400/600], d_loss: 0.8493, g_loss: 1.9281, D(x): 0.70, D(G(z)): 0.24\n",
      "Epoch [97/100], Step [600/600], d_loss: 1.1722, g_loss: 1.8786, D(x): 0.62, D(G(z)): 0.27\n",
      "Epoch [98/100], Step [200/600], d_loss: 1.0150, g_loss: 1.7010, D(x): 0.74, D(G(z)): 0.36\n",
      "Epoch [98/100], Step [400/600], d_loss: 0.7811, g_loss: 1.6953, D(x): 0.77, D(G(z)): 0.26\n",
      "Epoch [98/100], Step [600/600], d_loss: 1.0406, g_loss: 1.6888, D(x): 0.69, D(G(z)): 0.30\n",
      "Epoch [99/100], Step [200/600], d_loss: 0.6473, g_loss: 1.8382, D(x): 0.76, D(G(z)): 0.22\n",
      "Epoch [99/100], Step [400/600], d_loss: 0.6765, g_loss: 2.1369, D(x): 0.72, D(G(z)): 0.18\n",
      "Epoch [99/100], Step [600/600], d_loss: 0.6515, g_loss: 2.3907, D(x): 0.79, D(G(z)): 0.24\n"
     ]
    }
   ],
   "source": [
    "total_step = len(train_loader)\n",
    "for epoch in range(EPOCHS):\n",
    "    for i, (images, _) in enumerate(train_loader):\n",
    "        images = images.reshape(BATCH_SIZE, -1).to(DEVICE)\n",
    "        \n",
    "        # Create the labels which are later used as input for the BCE loss\n",
    "        real_labels = torch.ones(BATCH_SIZE, 1).to(DEVICE)\n",
    "        fake_labels = torch.zeros(BATCH_SIZE, 1).to(DEVICE)\n",
    "\n",
    "        # Train Discriminator\n",
    "\n",
    "        # Compute BCE_Loss using real images where BCE_Loss(x, y): - y * log(D(x)) - (1-y) * log(1 - D(x))\n",
    "        # Second term of the loss is always zero since real_labels == 1\n",
    "        outputs = D(images)\n",
    "        d_loss_real = criterion(outputs, real_labels)\n",
    "        real_score = outputs\n",
    "        \n",
    "        # Compute BCELoss using fake images\n",
    "        # First term of the loss is always zero since fake_labels == 0\n",
    "        z = torch.randn(BATCH_SIZE, 64).to(DEVICE)\n",
    "        fake_images = G(z)\n",
    "        outputs = D(fake_images)\n",
    "        d_loss_fake = criterion(outputs, fake_labels)\n",
    "        fake_score = outputs\n",
    "        \n",
    "        # Backprop and optimize\n",
    "        d_loss = d_loss_real + d_loss_fake\n",
    "        d_optimizer.zero_grad()\n",
    "        d_loss.backward()\n",
    "        d_optimizer.step()\n",
    "        \n",
    "        # Train Generator\n",
    "\n",
    "        # Compute loss with fake images\n",
    "        z = torch.randn(BATCH_SIZE, 64).to(DEVICE)\n",
    "        fake_images = G(z)\n",
    "        outputs = D(fake_images)\n",
    "        \n",
    "        # We train G to maximize log(D(G(z)) instead of minimizing log(1-D(G(z)))\n",
    "        # For the reason, see the last paragraph of section 3. https://arxiv.org/pdf/1406.2661.pdf\n",
    "        g_loss = criterion(outputs, real_labels)\n",
    "        \n",
    "        # Backprop and optimize\n",
    "        d_optimizer.zero_grad()\n",
    "        g_optimizer.zero_grad()\n",
    "        g_loss.backward()\n",
    "        g_optimizer.step()\n",
    "        \n",
    "        if (i+1) % 200 == 0:\n",
    "            print('Epoch [{}/{}], Step [{}/{}], d_loss: {:.4f}, g_loss: {:.4f}, D(x): {:.2f}, D(G(z)): {:.2f}' \n",
    "                  .format(epoch, EPOCHS, i+1, total_step, d_loss.item(), g_loss.item(), \n",
    "                          real_score.mean().item(), fake_score.mean().item()))"
   ]
  },
  {
   "cell_type": "markdown",
   "metadata": {},
   "source": [
    "## 참고\n",
    "본 튜토리얼은 다음 자료를 참고하여 만들어졌습니다.\n",
    "\n",
    "* [yunjey/pytorch-tutorial](https://github.com/yunjey/pytorch-tutorial) - MIT License"
   ]
  }
 ],
 "metadata": {
  "kernelspec": {
   "display_name": "Python 3",
   "language": "python",
   "name": "python3"
  },
  "language_info": {
   "codemirror_mode": {
    "name": "ipython",
    "version": 3
   },
   "file_extension": ".py",
   "mimetype": "text/x-python",
   "name": "python",
   "nbconvert_exporter": "python",
   "pygments_lexer": "ipython3",
   "version": "3.7.0"
  }
 },
 "nbformat": 4,
 "nbformat_minor": 2
}
