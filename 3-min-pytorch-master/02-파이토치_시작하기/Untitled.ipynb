{
 "cells": [
  {
   "cell_type": "code",
   "execution_count": 1,
   "metadata": {},
   "outputs": [
    {
     "name": "stdout",
     "output_type": "stream",
     "text": [
      "축하합니다! 3분 딥러닝 파이토치맛 예제 실행을 위한 환경설정이 끝났습니다.\n",
      "설치된 라이브러리 정보:\n",
      " * 파이토치 버전:1.0.1\n",
      " * 토치비젼 버전:0.2.2\n",
      " * 토치텍스트 버전:0.4.0\n",
      " * 넘파이 버전:1.17.0\n",
      " * 맷플랏립 버전:3.1.1\n",
      " * 사이킷런 버전:0.21.3\n"
     ]
    }
   ],
   "source": [
    "%run check_installation.py"
   ]
  },
  {
   "cell_type": "code",
   "execution_count": 2,
   "metadata": {},
   "outputs": [
    {
     "name": "stdout",
     "output_type": "stream",
     "text": [
      " C 드라이브의 볼륨: Windows\n",
      " 볼륨 일련 번호: 5A74-C7D6\n",
      "\n",
      " C:\\Users\\dahlmoon\\Documents\\GitHub\\pytorch_cpu\\3-min-pytorch-master\\02-파이토치_시작하기 디렉터리\n",
      "\n",
      "2019-08-17  오전 05:18    <DIR>          .\n",
      "2019-08-17  오전 05:18    <DIR>          ..\n",
      "2019-08-17  오전 05:16    <DIR>          .ipynb_checkpoints\n",
      "2019-07-14  오전 12:34             1,682 check_installation.py\n",
      "2019-07-14  오전 12:34               236 mat_mul.py\n",
      "2019-07-14  오전 12:34               296 README.md\n",
      "2019-07-14  오전 12:34               269 tensor_basic.py\n",
      "2019-08-17  오전 05:18             1,203 Untitled.ipynb\n",
      "               5개 파일               3,686 바이트\n",
      "               3개 디렉터리  867,214,057,472 바이트 남음\n"
     ]
    }
   ],
   "source": [
    "%ls"
   ]
  },
  {
   "cell_type": "code",
   "execution_count": null,
   "metadata": {},
   "outputs": [],
   "source": []
  }
 ],
 "metadata": {
  "kernelspec": {
   "display_name": "pytorch_cpu",
   "language": "python",
   "name": "pytorch_cpu"
  },
  "language_info": {
   "codemirror_mode": {
    "name": "ipython",
    "version": 3
   },
   "file_extension": ".py",
   "mimetype": "text/x-python",
   "name": "python",
   "nbconvert_exporter": "python",
   "pygments_lexer": "ipython3",
   "version": "3.7.4"
  }
 },
 "nbformat": 4,
 "nbformat_minor": 2
}
