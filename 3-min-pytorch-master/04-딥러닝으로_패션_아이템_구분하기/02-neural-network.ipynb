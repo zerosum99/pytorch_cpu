{
 "cells": [
  {
   "cell_type": "markdown",
   "metadata": {},
   "source": [
    "# 4.2 뉴럴넷으로 패션 아이템 구분하기\n",
    "Fashion MNIST 데이터셋과 앞서 배운 인공신경망을 이용하여 패션아이템을 구분해봅니다."
   ]
  },
  {
   "cell_type": "code",
   "execution_count": 1,
   "metadata": {},
   "outputs": [],
   "source": [
    "import torch\n",
    "import torch.nn as nn\n",
    "import torch.optim as optim\n",
    "import torch.nn.functional as F\n",
    "from torchvision import transforms, datasets"
   ]
  },
  {
   "cell_type": "code",
   "execution_count": 2,
   "metadata": {},
   "outputs": [],
   "source": [
    "torch.manual_seed(42)\n",
    "USE_CUDA = torch.cuda.is_available()\n",
    "DEVICE = torch.device(\"cuda\" if USE_CUDA else \"cpu\")"
   ]
  },
  {
   "cell_type": "code",
   "execution_count": 3,
   "metadata": {},
   "outputs": [],
   "source": [
    "EPOCHS = 30\n",
    "BATCH_SIZE = 64"
   ]
  },
  {
   "cell_type": "markdown",
   "metadata": {},
   "source": [
    "## 데이터셋 불러오기"
   ]
  },
  {
   "cell_type": "code",
   "execution_count": 4,
   "metadata": {},
   "outputs": [],
   "source": [
    "transform = transforms.Compose([\n",
    "    transforms.ToTensor()\n",
    "])"
   ]
  },
  {
   "cell_type": "code",
   "execution_count": 5,
   "metadata": {},
   "outputs": [],
   "source": [
    "trainset = datasets.FashionMNIST(\n",
    "    root      = './.data/', \n",
    "    train     = True,\n",
    "    download  = True,\n",
    "    transform = transform\n",
    ")\n",
    "testset = datasets.FashionMNIST(\n",
    "    root      = './.data/', \n",
    "    train     = False,\n",
    "    download  = True,\n",
    "    transform = transform\n",
    ")\n",
    "\n",
    "train_loader = torch.utils.data.DataLoader(\n",
    "    dataset     = trainset,\n",
    "    batch_size  = BATCH_SIZE,\n",
    "    shuffle     = True,\n",
    ")\n",
    "test_loader = torch.utils.data.DataLoader(\n",
    "    dataset     = testset,\n",
    "    batch_size  = BATCH_SIZE,\n",
    "    shuffle     = True,\n",
    ")"
   ]
  },
  {
   "cell_type": "markdown",
   "metadata": {},
   "source": [
    "## 뉴럴넷으로 Fashion MNIST 학습하기\n",
    "\n",
    "입력 `x` 는 `[배치크기, 색, 높이, 넓이]`로 이루어져 있습니다.\n",
    "`x.size()`를 해보면 `[64, 1, 28, 28]`이라고 표시되는 것을 보실 수 있습니다.\n",
    "Fashion MNIST에서 이미지의 크기는 28 x 28, 색은 흑백으로 1 가지 입니다.\n",
    "그러므로 입력 x의 총 특성값 갯수는 28 x 28 x 1, 즉 784개 입니다.\n",
    "\n",
    "우리가 사용할 모델은 3개의 레이어를 가진 인공신경망 입니다. "
   ]
  },
  {
   "cell_type": "code",
   "execution_count": 6,
   "metadata": {},
   "outputs": [],
   "source": [
    "class Net(nn.Module):\n",
    "    def __init__(self):\n",
    "        super(Net, self).__init__()\n",
    "        self.fc1 = nn.Linear(784, 256)\n",
    "        self.fc2 = nn.Linear(256, 128)\n",
    "        self.fc3 = nn.Linear(128, 10)\n",
    "\n",
    "    def forward(self, x):\n",
    "        x = x.view(-1, 784)\n",
    "        x = F.relu(self.fc1(x))\n",
    "        x = F.relu(self.fc2(x))\n",
    "        x = self.fc3(x)\n",
    "        return x"
   ]
  },
  {
   "cell_type": "code",
   "execution_count": 11,
   "metadata": {},
   "outputs": [
    {
     "data": {
      "text/plain": [
       "type"
      ]
     },
     "execution_count": 11,
     "metadata": {},
     "output_type": "execute_result"
    }
   ],
   "source": [
    "type(nn.Module)"
   ]
  },
  {
   "cell_type": "markdown",
   "metadata": {},
   "source": [
    "## 모델 준비하기\n",
    "\n",
    "`to()` 함수는 모델의 파라미터들을 지정한 곳으로 보내는 역할을 합니다.\n",
    "일반적으로 CPU 1개만 사용할 경우 필요는 없지만,\n",
    "GPU를 사용하고자 하는 경우 `to(\"cuda\")`로 지정하여 GPU로 보내야 합니다.\n",
    "지정하지 않을 경우 계속 CPU에 남아 있게 되며 빠른 훈련의 이점을 누리실 수 없습니다.\n",
    "\n",
    "최적화 알고리즘으로 파이토치에 내장되어 있는 `optim.SGD`를 사용하겠습니다."
   ]
  },
  {
   "cell_type": "code",
   "execution_count": 7,
   "metadata": {},
   "outputs": [],
   "source": [
    "model        = Net().to(DEVICE)\n",
    "optimizer    = optim.SGD(model.parameters(), lr=0.01)"
   ]
  },
  {
   "cell_type": "markdown",
   "metadata": {},
   "source": [
    "## 학습하기"
   ]
  },
  {
   "cell_type": "code",
   "execution_count": 8,
   "metadata": {},
   "outputs": [],
   "source": [
    "def train(model, train_loader, optimizer, epoch):\n",
    "    model.train()\n",
    "    for batch_idx, (data, target) in enumerate(train_loader):\n",
    "        data, target = data.to(DEVICE), target.to(DEVICE)\n",
    "        optimizer.zero_grad()\n",
    "        output = model(data)\n",
    "        loss = F.cross_entropy(output, target)\n",
    "        loss.backward()\n",
    "        optimizer.step()\n",
    "\n",
    "        if batch_idx % 200 == 0:\n",
    "            print('Train Epoch: {} [{}/{} ({:.0f}%)]\\tLoss: {:.6f}'.format(\n",
    "                epoch, batch_idx * len(data), len(train_loader.dataset),\n",
    "                100. * batch_idx / len(train_loader), loss.item()))"
   ]
  },
  {
   "cell_type": "markdown",
   "metadata": {},
   "source": [
    "## 테스트하기\n",
    "\n",
    "아무리 학습이 잘 되었다고 해도 실제 데이터를 만났을때 성능이 낮다면 쓸모 없는 모델일 것입니다.\n",
    "우리가 진정 원하는 것은 훈련 데이터에 최적화한 모델이 아니라 모든 데이터에서 높은 성능을 보이는 모델이기 때문입니다.\n",
    "세상에 존재하는 모든 데이터에 최적화 하는 것을 \"일반화\"라고 부르고\n",
    "모델이 얼마나 실제 데이터에 적응하는지를 수치로 나타낸 것을 \"일반화 오류\"(Generalization Error) 라고 합니다. \n",
    "\n",
    "우리가 만든 모델이 얼마나 일반화를 잘 하는지 알아보기 위해,\n",
    "그리고 언제 훈련을 멈추어야 할지 알기 위해\n",
    "매 이폭이 끝날때 마다 테스트셋으로 모델의 성능을 측정해보겠습니다."
   ]
  },
  {
   "cell_type": "code",
   "execution_count": 9,
   "metadata": {},
   "outputs": [],
   "source": [
    "def test(model, test_loader):\n",
    "    model.eval()\n",
    "    test_loss = 0\n",
    "    correct = 0\n",
    "    with torch.no_grad():\n",
    "        for data, target in test_loader:\n",
    "            data, target = data.to(DEVICE), target.to(DEVICE)\n",
    "            output = model(data)\n",
    "\n",
    "            # sum up batch loss\n",
    "            test_loss += F.cross_entropy(output, target,\n",
    "                                         size_average=False).item()\n",
    "            \n",
    "            # get the index of the max log-probability\n",
    "            pred = output.max(1, keepdim=True)[1]\n",
    "            correct += pred.eq(target.view_as(pred)).sum().item()\n",
    "\n",
    "    test_loss /= len(test_loader.dataset)\n",
    "    test_accuracy = 100. * correct / len(test_loader.dataset)\n",
    "    return test_loss, test_accuracy"
   ]
  },
  {
   "cell_type": "markdown",
   "metadata": {},
   "source": [
    "## 코드 돌려보기\n",
    "\n",
    "자, 이제 모든 준비가 끝났습니다. 코드를 돌려서 실제로 훈련이 되는지 확인해봅시다!"
   ]
  },
  {
   "cell_type": "code",
   "execution_count": 10,
   "metadata": {},
   "outputs": [
    {
     "name": "stdout",
     "output_type": "stream",
     "text": [
      "Train Epoch: 1 [0/60000 (0%)]\tLoss: 2.295678\n",
      "Train Epoch: 1 [12800/60000 (21%)]\tLoss: 2.012621\n",
      "Train Epoch: 1 [25600/60000 (43%)]\tLoss: 1.427331\n",
      "Train Epoch: 1 [38400/60000 (64%)]\tLoss: 1.079668\n",
      "Train Epoch: 1 [51200/60000 (85%)]\tLoss: 0.903089\n"
     ]
    },
    {
     "name": "stderr",
     "output_type": "stream",
     "text": [
      "C:\\Users\\dahlmoon\\Anaconda3\\envs\\pytorch_cpu\\lib\\site-packages\\torch\\nn\\_reduction.py:49: UserWarning: size_average and reduce args will be deprecated, please use reduction='sum' instead.\n",
      "  warnings.warn(warning.format(ret))\n"
     ]
    },
    {
     "name": "stdout",
     "output_type": "stream",
     "text": [
      "[1] Test Loss: 0.8554, Accuracy: 65.62%\n",
      "Train Epoch: 2 [0/60000 (0%)]\tLoss: 0.795721\n",
      "Train Epoch: 2 [12800/60000 (21%)]\tLoss: 0.756177\n",
      "Train Epoch: 2 [25600/60000 (43%)]\tLoss: 0.798905\n",
      "Train Epoch: 2 [38400/60000 (64%)]\tLoss: 0.778697\n",
      "Train Epoch: 2 [51200/60000 (85%)]\tLoss: 0.541818\n",
      "[2] Test Loss: 0.6664, Accuracy: 76.38%\n",
      "Train Epoch: 3 [0/60000 (0%)]\tLoss: 0.675314\n",
      "Train Epoch: 3 [12800/60000 (21%)]\tLoss: 0.877052\n",
      "Train Epoch: 3 [25600/60000 (43%)]\tLoss: 0.502096\n",
      "Train Epoch: 3 [38400/60000 (64%)]\tLoss: 0.597013\n",
      "Train Epoch: 3 [51200/60000 (85%)]\tLoss: 0.703466\n",
      "[3] Test Loss: 0.6539, Accuracy: 74.21%\n",
      "Train Epoch: 4 [0/60000 (0%)]\tLoss: 0.559013\n",
      "Train Epoch: 4 [12800/60000 (21%)]\tLoss: 0.625798\n",
      "Train Epoch: 4 [25600/60000 (43%)]\tLoss: 0.730147\n",
      "Train Epoch: 4 [38400/60000 (64%)]\tLoss: 0.533037\n",
      "Train Epoch: 4 [51200/60000 (85%)]\tLoss: 0.573453\n",
      "[4] Test Loss: 0.5896, Accuracy: 78.46%\n",
      "Train Epoch: 5 [0/60000 (0%)]\tLoss: 0.855443\n",
      "Train Epoch: 5 [12800/60000 (21%)]\tLoss: 0.603726\n",
      "Train Epoch: 5 [25600/60000 (43%)]\tLoss: 0.433068\n",
      "Train Epoch: 5 [38400/60000 (64%)]\tLoss: 0.506887\n",
      "Train Epoch: 5 [51200/60000 (85%)]\tLoss: 0.270019\n",
      "[5] Test Loss: 0.5108, Accuracy: 81.80%\n",
      "Train Epoch: 6 [0/60000 (0%)]\tLoss: 0.358515\n",
      "Train Epoch: 6 [12800/60000 (21%)]\tLoss: 0.636167\n",
      "Train Epoch: 6 [25600/60000 (43%)]\tLoss: 0.549221\n",
      "Train Epoch: 6 [38400/60000 (64%)]\tLoss: 0.654707\n",
      "Train Epoch: 6 [51200/60000 (85%)]\tLoss: 0.474031\n",
      "[6] Test Loss: 0.4948, Accuracy: 82.39%\n",
      "Train Epoch: 7 [0/60000 (0%)]\tLoss: 0.490433\n",
      "Train Epoch: 7 [12800/60000 (21%)]\tLoss: 0.461762\n",
      "Train Epoch: 7 [25600/60000 (43%)]\tLoss: 0.275496\n",
      "Train Epoch: 7 [38400/60000 (64%)]\tLoss: 0.351862\n",
      "Train Epoch: 7 [51200/60000 (85%)]\tLoss: 0.492759\n",
      "[7] Test Loss: 0.4815, Accuracy: 82.80%\n",
      "Train Epoch: 8 [0/60000 (0%)]\tLoss: 0.583386\n",
      "Train Epoch: 8 [12800/60000 (21%)]\tLoss: 0.421042\n",
      "Train Epoch: 8 [25600/60000 (43%)]\tLoss: 0.522542\n",
      "Train Epoch: 8 [38400/60000 (64%)]\tLoss: 0.484747\n",
      "Train Epoch: 8 [51200/60000 (85%)]\tLoss: 0.262958\n",
      "[8] Test Loss: 0.5047, Accuracy: 81.48%\n",
      "Train Epoch: 9 [0/60000 (0%)]\tLoss: 0.541561\n",
      "Train Epoch: 9 [12800/60000 (21%)]\tLoss: 0.337701\n",
      "Train Epoch: 9 [25600/60000 (43%)]\tLoss: 0.565296\n",
      "Train Epoch: 9 [38400/60000 (64%)]\tLoss: 0.652859\n",
      "Train Epoch: 9 [51200/60000 (85%)]\tLoss: 0.557616\n",
      "[9] Test Loss: 0.4628, Accuracy: 83.47%\n",
      "Train Epoch: 10 [0/60000 (0%)]\tLoss: 0.372021\n",
      "Train Epoch: 10 [12800/60000 (21%)]\tLoss: 0.589273\n",
      "Train Epoch: 10 [25600/60000 (43%)]\tLoss: 0.430768\n",
      "Train Epoch: 10 [38400/60000 (64%)]\tLoss: 0.418766\n",
      "Train Epoch: 10 [51200/60000 (85%)]\tLoss: 0.577382\n",
      "[10] Test Loss: 0.4626, Accuracy: 83.33%\n",
      "Train Epoch: 11 [0/60000 (0%)]\tLoss: 0.362971\n",
      "Train Epoch: 11 [12800/60000 (21%)]\tLoss: 0.398272\n",
      "Train Epoch: 11 [25600/60000 (43%)]\tLoss: 0.296025\n",
      "Train Epoch: 11 [38400/60000 (64%)]\tLoss: 0.370204\n",
      "Train Epoch: 11 [51200/60000 (85%)]\tLoss: 0.391814\n",
      "[11] Test Loss: 0.4554, Accuracy: 83.89%\n",
      "Train Epoch: 12 [0/60000 (0%)]\tLoss: 0.283946\n",
      "Train Epoch: 12 [12800/60000 (21%)]\tLoss: 0.554643\n",
      "Train Epoch: 12 [25600/60000 (43%)]\tLoss: 0.333241\n",
      "Train Epoch: 12 [38400/60000 (64%)]\tLoss: 0.694068\n",
      "Train Epoch: 12 [51200/60000 (85%)]\tLoss: 0.520933\n",
      "[12] Test Loss: 0.4474, Accuracy: 84.04%\n",
      "Train Epoch: 13 [0/60000 (0%)]\tLoss: 0.344382\n",
      "Train Epoch: 13 [12800/60000 (21%)]\tLoss: 0.618493\n",
      "Train Epoch: 13 [25600/60000 (43%)]\tLoss: 0.379486\n",
      "Train Epoch: 13 [38400/60000 (64%)]\tLoss: 0.542777\n",
      "Train Epoch: 13 [51200/60000 (85%)]\tLoss: 0.396705\n",
      "[13] Test Loss: 0.4510, Accuracy: 84.06%\n",
      "Train Epoch: 14 [0/60000 (0%)]\tLoss: 0.556315\n",
      "Train Epoch: 14 [12800/60000 (21%)]\tLoss: 0.411345\n",
      "Train Epoch: 14 [25600/60000 (43%)]\tLoss: 0.415797\n",
      "Train Epoch: 14 [38400/60000 (64%)]\tLoss: 0.311774\n",
      "Train Epoch: 14 [51200/60000 (85%)]\tLoss: 0.338101\n",
      "[14] Test Loss: 0.4401, Accuracy: 84.18%\n",
      "Train Epoch: 15 [0/60000 (0%)]\tLoss: 0.408906\n",
      "Train Epoch: 15 [12800/60000 (21%)]\tLoss: 0.410380\n",
      "Train Epoch: 15 [25600/60000 (43%)]\tLoss: 0.288569\n",
      "Train Epoch: 15 [38400/60000 (64%)]\tLoss: 0.298669\n",
      "Train Epoch: 15 [51200/60000 (85%)]\tLoss: 0.340634\n",
      "[15] Test Loss: 0.4470, Accuracy: 83.64%\n",
      "Train Epoch: 16 [0/60000 (0%)]\tLoss: 0.529503\n",
      "Train Epoch: 16 [12800/60000 (21%)]\tLoss: 0.287523\n",
      "Train Epoch: 16 [25600/60000 (43%)]\tLoss: 0.296122\n",
      "Train Epoch: 16 [38400/60000 (64%)]\tLoss: 0.330564\n",
      "Train Epoch: 16 [51200/60000 (85%)]\tLoss: 0.389275\n",
      "[16] Test Loss: 0.4183, Accuracy: 85.40%\n",
      "Train Epoch: 17 [0/60000 (0%)]\tLoss: 0.551948\n",
      "Train Epoch: 17 [12800/60000 (21%)]\tLoss: 0.452465\n",
      "Train Epoch: 17 [25600/60000 (43%)]\tLoss: 0.622101\n",
      "Train Epoch: 17 [38400/60000 (64%)]\tLoss: 0.477010\n",
      "Train Epoch: 17 [51200/60000 (85%)]\tLoss: 0.337599\n",
      "[17] Test Loss: 0.4114, Accuracy: 85.54%\n",
      "Train Epoch: 18 [0/60000 (0%)]\tLoss: 0.225318\n",
      "Train Epoch: 18 [12800/60000 (21%)]\tLoss: 0.271625\n",
      "Train Epoch: 18 [25600/60000 (43%)]\tLoss: 0.612656\n",
      "Train Epoch: 18 [38400/60000 (64%)]\tLoss: 0.195024\n",
      "Train Epoch: 18 [51200/60000 (85%)]\tLoss: 0.265883\n",
      "[18] Test Loss: 0.4204, Accuracy: 84.99%\n",
      "Train Epoch: 19 [0/60000 (0%)]\tLoss: 0.352971\n",
      "Train Epoch: 19 [12800/60000 (21%)]\tLoss: 0.286982\n",
      "Train Epoch: 19 [25600/60000 (43%)]\tLoss: 0.221875\n",
      "Train Epoch: 19 [38400/60000 (64%)]\tLoss: 0.358308\n",
      "Train Epoch: 19 [51200/60000 (85%)]\tLoss: 0.268710\n",
      "[19] Test Loss: 0.4329, Accuracy: 84.46%\n",
      "Train Epoch: 20 [0/60000 (0%)]\tLoss: 0.631197\n",
      "Train Epoch: 20 [12800/60000 (21%)]\tLoss: 0.274171\n",
      "Train Epoch: 20 [25600/60000 (43%)]\tLoss: 0.320869\n",
      "Train Epoch: 20 [38400/60000 (64%)]\tLoss: 0.385570\n",
      "Train Epoch: 20 [51200/60000 (85%)]\tLoss: 0.386195\n",
      "[20] Test Loss: 0.4130, Accuracy: 85.69%\n",
      "Train Epoch: 21 [0/60000 (0%)]\tLoss: 0.534115\n",
      "Train Epoch: 21 [12800/60000 (21%)]\tLoss: 0.266576\n",
      "Train Epoch: 21 [25600/60000 (43%)]\tLoss: 0.253807\n",
      "Train Epoch: 21 [38400/60000 (64%)]\tLoss: 0.435322\n",
      "Train Epoch: 21 [51200/60000 (85%)]\tLoss: 0.387675\n",
      "[21] Test Loss: 0.4228, Accuracy: 85.28%\n",
      "Train Epoch: 22 [0/60000 (0%)]\tLoss: 0.446307\n",
      "Train Epoch: 22 [12800/60000 (21%)]\tLoss: 0.480367\n",
      "Train Epoch: 22 [25600/60000 (43%)]\tLoss: 0.258448\n",
      "Train Epoch: 22 [38400/60000 (64%)]\tLoss: 0.291632\n",
      "Train Epoch: 22 [51200/60000 (85%)]\tLoss: 0.128619\n",
      "[22] Test Loss: 0.4058, Accuracy: 85.39%\n",
      "Train Epoch: 23 [0/60000 (0%)]\tLoss: 0.243944\n",
      "Train Epoch: 23 [12800/60000 (21%)]\tLoss: 0.555126\n",
      "Train Epoch: 23 [25600/60000 (43%)]\tLoss: 0.510787\n",
      "Train Epoch: 23 [38400/60000 (64%)]\tLoss: 0.349433\n",
      "Train Epoch: 23 [51200/60000 (85%)]\tLoss: 0.442977\n",
      "[23] Test Loss: 0.4014, Accuracy: 85.68%\n",
      "Train Epoch: 24 [0/60000 (0%)]\tLoss: 0.195525\n",
      "Train Epoch: 24 [12800/60000 (21%)]\tLoss: 0.260269\n",
      "Train Epoch: 24 [25600/60000 (43%)]\tLoss: 0.308543\n",
      "Train Epoch: 24 [38400/60000 (64%)]\tLoss: 0.370169\n",
      "Train Epoch: 24 [51200/60000 (85%)]\tLoss: 0.197283\n",
      "[24] Test Loss: 0.4002, Accuracy: 85.48%\n",
      "Train Epoch: 25 [0/60000 (0%)]\tLoss: 0.492689\n",
      "Train Epoch: 25 [12800/60000 (21%)]\tLoss: 0.508944\n",
      "Train Epoch: 25 [25600/60000 (43%)]\tLoss: 0.365128\n",
      "Train Epoch: 25 [38400/60000 (64%)]\tLoss: 0.368613\n",
      "Train Epoch: 25 [51200/60000 (85%)]\tLoss: 0.311210\n",
      "[25] Test Loss: 0.3871, Accuracy: 86.27%\n",
      "Train Epoch: 26 [0/60000 (0%)]\tLoss: 0.479518\n",
      "Train Epoch: 26 [12800/60000 (21%)]\tLoss: 0.215757\n",
      "Train Epoch: 26 [25600/60000 (43%)]\tLoss: 0.305895\n",
      "Train Epoch: 26 [38400/60000 (64%)]\tLoss: 0.314175\n",
      "Train Epoch: 26 [51200/60000 (85%)]\tLoss: 0.294289\n",
      "[26] Test Loss: 0.3830, Accuracy: 86.46%\n",
      "Train Epoch: 27 [0/60000 (0%)]\tLoss: 0.299854\n",
      "Train Epoch: 27 [12800/60000 (21%)]\tLoss: 0.267646\n",
      "Train Epoch: 27 [25600/60000 (43%)]\tLoss: 0.283192\n",
      "Train Epoch: 27 [38400/60000 (64%)]\tLoss: 0.348976\n",
      "Train Epoch: 27 [51200/60000 (85%)]\tLoss: 0.465992\n",
      "[27] Test Loss: 0.4024, Accuracy: 85.45%\n",
      "Train Epoch: 28 [0/60000 (0%)]\tLoss: 0.265208\n",
      "Train Epoch: 28 [12800/60000 (21%)]\tLoss: 0.308759\n",
      "Train Epoch: 28 [25600/60000 (43%)]\tLoss: 0.286902\n",
      "Train Epoch: 28 [38400/60000 (64%)]\tLoss: 0.360642\n",
      "Train Epoch: 28 [51200/60000 (85%)]\tLoss: 0.289265\n",
      "[28] Test Loss: 0.3898, Accuracy: 86.14%\n",
      "Train Epoch: 29 [0/60000 (0%)]\tLoss: 0.399037\n",
      "Train Epoch: 29 [12800/60000 (21%)]\tLoss: 0.335556\n",
      "Train Epoch: 29 [25600/60000 (43%)]\tLoss: 0.305266\n",
      "Train Epoch: 29 [38400/60000 (64%)]\tLoss: 0.227064\n",
      "Train Epoch: 29 [51200/60000 (85%)]\tLoss: 0.303063\n",
      "[29] Test Loss: 0.3749, Accuracy: 86.67%\n",
      "Train Epoch: 30 [0/60000 (0%)]\tLoss: 0.265915\n"
     ]
    },
    {
     "name": "stdout",
     "output_type": "stream",
     "text": [
      "Train Epoch: 30 [12800/60000 (21%)]\tLoss: 0.360919\n",
      "Train Epoch: 30 [25600/60000 (43%)]\tLoss: 0.396586\n",
      "Train Epoch: 30 [38400/60000 (64%)]\tLoss: 0.393103\n",
      "Train Epoch: 30 [51200/60000 (85%)]\tLoss: 0.246650\n",
      "[30] Test Loss: 0.3720, Accuracy: 86.85%\n"
     ]
    }
   ],
   "source": [
    "for epoch in range(1, EPOCHS + 1):\n",
    "    train(model, train_loader, optimizer, epoch)\n",
    "    test_loss, test_accuracy = test(model, test_loader)\n",
    "    \n",
    "    print('[{}] Test Loss: {:.4f}, Accuracy: {:.2f}%'.format(\n",
    "          epoch, test_loss, test_accuracy))"
   ]
  }
 ],
 "metadata": {
  "kernelspec": {
   "display_name": "Python 3",
   "language": "python",
   "name": "python3"
  },
  "language_info": {
   "codemirror_mode": {
    "name": "ipython",
    "version": 3
   },
   "file_extension": ".py",
   "mimetype": "text/x-python",
   "name": "python",
   "nbconvert_exporter": "python",
   "pygments_lexer": "ipython3",
   "version": "3.7.4"
  }
 },
 "nbformat": 4,
 "nbformat_minor": 2
}
