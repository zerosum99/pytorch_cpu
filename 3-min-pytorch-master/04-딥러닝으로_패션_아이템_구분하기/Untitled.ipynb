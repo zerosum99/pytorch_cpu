{
 "cells": [
  {
   "cell_type": "code",
   "execution_count": 2,
   "metadata": {},
   "outputs": [],
   "source": [
    "import torch.nn as nn"
   ]
  },
  {
   "cell_type": "code",
   "execution_count": 3,
   "metadata": {},
   "outputs": [
    {
     "data": {
      "text/plain": [
       "type"
      ]
     },
     "execution_count": 3,
     "metadata": {},
     "output_type": "execute_result"
    }
   ],
   "source": [
    "type(nn.Module)"
   ]
  },
  {
   "cell_type": "code",
   "execution_count": 4,
   "metadata": {},
   "outputs": [
    {
     "data": {
      "text/plain": [
       "type"
      ]
     },
     "execution_count": 4,
     "metadata": {},
     "output_type": "execute_result"
    }
   ],
   "source": [
    "type(nn.Linear)"
   ]
  },
  {
   "cell_type": "code",
   "execution_count": 5,
   "metadata": {},
   "outputs": [],
   "source": [
    "import torch\n",
    "import torch.nn as nn\n",
    "import torch.optim as optim\n",
    "import torch.nn.functional as F\n",
    "from torchvision import transforms, datasets"
   ]
  },
  {
   "cell_type": "code",
   "execution_count": 6,
   "metadata": {},
   "outputs": [
    {
     "data": {
      "text/plain": [
       "<module 'torch.nn.functional' from 'C:\\\\Users\\\\dahlmoon\\\\Anaconda3\\\\envs\\\\pytorch_cpu\\\\lib\\\\site-packages\\\\torch\\\\nn\\\\functional.py'>"
      ]
     },
     "execution_count": 6,
     "metadata": {},
     "output_type": "execute_result"
    }
   ],
   "source": [
    "F"
   ]
  },
  {
   "cell_type": "code",
   "execution_count": 7,
   "metadata": {},
   "outputs": [
    {
     "data": {
      "text/plain": [
       "['Col2Im',\n",
       " 'GRID_SAMPLE_INTERPOLATION_MODES',\n",
       " 'GRID_SAMPLE_PADDING_MODES',\n",
       " 'Im2Col',\n",
       " 'List',\n",
       " '_Reduction',\n",
       " '_VF',\n",
       " '__builtins__',\n",
       " '__cached__',\n",
       " '__doc__',\n",
       " '__file__',\n",
       " '__loader__',\n",
       " '__name__',\n",
       " '__package__',\n",
       " '__spec__',\n",
       " '_adaptive_max_pool1d',\n",
       " '_adaptive_max_pool2d',\n",
       " '_adaptive_max_pool3d',\n",
       " '_add_docstr',\n",
       " '_fractional_max_pool2d',\n",
       " '_functions',\n",
       " '_get_softmax_dim',\n",
       " '_gumbel_softmax_sample',\n",
       " '_infer_size',\n",
       " '_list_with_default',\n",
       " '_max_pool1d',\n",
       " '_max_pool2d',\n",
       " '_max_pool3d',\n",
       " '_no_grad_embedding_renorm_',\n",
       " '_pair',\n",
       " '_pointwise_loss',\n",
       " '_sample_gumbel',\n",
       " '_single',\n",
       " '_smooth_l1_loss',\n",
       " '_triple',\n",
       " '_unpool_output_size',\n",
       " 'adaptive_avg_pool1d',\n",
       " 'adaptive_avg_pool2d',\n",
       " 'adaptive_avg_pool3d',\n",
       " 'adaptive_max_pool1d',\n",
       " 'adaptive_max_pool1d_with_indices',\n",
       " 'adaptive_max_pool2d',\n",
       " 'adaptive_max_pool2d_with_indices',\n",
       " 'adaptive_max_pool3d',\n",
       " 'adaptive_max_pool3d_with_indices',\n",
       " 'affine_grid',\n",
       " 'alpha_dropout',\n",
       " 'assert_int_or_pair',\n",
       " 'avg_pool1d',\n",
       " 'avg_pool2d',\n",
       " 'avg_pool3d',\n",
       " 'batch_norm',\n",
       " 'bilinear',\n",
       " 'binary_cross_entropy',\n",
       " 'binary_cross_entropy_with_logits',\n",
       " 'celu',\n",
       " 'celu_',\n",
       " 'conv1d',\n",
       " 'conv2d',\n",
       " 'conv3d',\n",
       " 'conv_tbc',\n",
       " 'conv_transpose1d',\n",
       " 'conv_transpose2d',\n",
       " 'conv_transpose3d',\n",
       " 'cosine_embedding_loss',\n",
       " 'cosine_similarity',\n",
       " 'cross_entropy',\n",
       " 'ctc_loss',\n",
       " 'division',\n",
       " 'dropout',\n",
       " 'dropout2d',\n",
       " 'dropout3d',\n",
       " 'elu',\n",
       " 'elu_',\n",
       " 'embedding',\n",
       " 'embedding_bag',\n",
       " 'feature_alpha_dropout',\n",
       " 'fold',\n",
       " 'fractional_max_pool2d',\n",
       " 'fractional_max_pool2d_with_indices',\n",
       " 'glu',\n",
       " 'grad',\n",
       " 'grid_sample',\n",
       " 'group_norm',\n",
       " 'gumbel_softmax',\n",
       " 'hardshrink',\n",
       " 'hardtanh',\n",
       " 'hardtanh_',\n",
       " 'hinge_embedding_loss',\n",
       " 'instance_norm',\n",
       " 'interpolate',\n",
       " 'kl_div',\n",
       " 'l1_loss',\n",
       " 'layer_norm',\n",
       " 'leaky_relu',\n",
       " 'leaky_relu_',\n",
       " 'linear',\n",
       " 'local_response_norm',\n",
       " 'log_softmax',\n",
       " 'logsigmoid',\n",
       " 'lp_pool1d',\n",
       " 'lp_pool2d',\n",
       " 'margin_ranking_loss',\n",
       " 'math',\n",
       " 'max_pool1d',\n",
       " 'max_pool1d_with_indices',\n",
       " 'max_pool2d',\n",
       " 'max_pool2d_with_indices',\n",
       " 'max_pool3d',\n",
       " 'max_pool3d_with_indices',\n",
       " 'max_unpool1d',\n",
       " 'max_unpool2d',\n",
       " 'max_unpool3d',\n",
       " 'mse_loss',\n",
       " 'multi_margin_loss',\n",
       " 'multilabel_margin_loss',\n",
       " 'multilabel_soft_margin_loss',\n",
       " 'nll_loss',\n",
       " 'normalize',\n",
       " 'pad',\n",
       " 'pairwise_distance',\n",
       " 'pdist',\n",
       " 'pixel_shuffle',\n",
       " 'poisson_nll_loss',\n",
       " 'prelu',\n",
       " 'relu',\n",
       " 'relu6',\n",
       " 'relu_',\n",
       " 'rrelu',\n",
       " 'rrelu_',\n",
       " 'selu',\n",
       " 'selu_',\n",
       " 'sigmoid',\n",
       " 'smooth_l1_loss',\n",
       " 'soft_margin_loss',\n",
       " 'softmax',\n",
       " 'softmin',\n",
       " 'softplus',\n",
       " 'softshrink',\n",
       " 'softsign',\n",
       " 'tanh',\n",
       " 'tanhshrink',\n",
       " 'threshold',\n",
       " 'threshold_',\n",
       " 'torch',\n",
       " 'triplet_margin_loss',\n",
       " 'types',\n",
       " 'unfold',\n",
       " 'upsample',\n",
       " 'upsample_bilinear',\n",
       " 'upsample_nearest',\n",
       " 'utils',\n",
       " 'vision',\n",
       " 'warnings',\n",
       " 'weak_script']"
      ]
     },
     "execution_count": 7,
     "metadata": {},
     "output_type": "execute_result"
    }
   ],
   "source": [
    "dir(F)"
   ]
  },
  {
   "cell_type": "code",
   "execution_count": 8,
   "metadata": {},
   "outputs": [
    {
     "data": {
      "text/plain": [
       "<function torch.nn.functional.relu(input, inplace=False)>"
      ]
     },
     "execution_count": 8,
     "metadata": {},
     "output_type": "execute_result"
    }
   ],
   "source": [
    "F.relu"
   ]
  },
  {
   "cell_type": "code",
   "execution_count": 9,
   "metadata": {},
   "outputs": [
    {
     "data": {
      "text/plain": [
       "torch.nn.modules.activation.ReLU"
      ]
     },
     "execution_count": 9,
     "metadata": {},
     "output_type": "execute_result"
    }
   ],
   "source": [
    "nn.ReLU"
   ]
  },
  {
   "cell_type": "code",
   "execution_count": 10,
   "metadata": {},
   "outputs": [
    {
     "data": {
      "text/plain": [
       "['__call__',\n",
       " '__class__',\n",
       " '__constants__',\n",
       " '__delattr__',\n",
       " '__dict__',\n",
       " '__dir__',\n",
       " '__doc__',\n",
       " '__eq__',\n",
       " '__format__',\n",
       " '__ge__',\n",
       " '__getattr__',\n",
       " '__getattribute__',\n",
       " '__gt__',\n",
       " '__hash__',\n",
       " '__init__',\n",
       " '__init_subclass__',\n",
       " '__le__',\n",
       " '__lt__',\n",
       " '__module__',\n",
       " '__ne__',\n",
       " '__new__',\n",
       " '__reduce__',\n",
       " '__reduce_ex__',\n",
       " '__repr__',\n",
       " '__setattr__',\n",
       " '__setstate__',\n",
       " '__sizeof__',\n",
       " '__str__',\n",
       " '__subclasshook__',\n",
       " '__weakref__',\n",
       " '_apply',\n",
       " '_get_name',\n",
       " '_load_from_state_dict',\n",
       " '_named_members',\n",
       " '_register_load_state_dict_pre_hook',\n",
       " '_register_state_dict_hook',\n",
       " '_slow_forward',\n",
       " '_tracing_name',\n",
       " '_version',\n",
       " 'add_module',\n",
       " 'apply',\n",
       " 'buffers',\n",
       " 'children',\n",
       " 'cpu',\n",
       " 'cuda',\n",
       " 'double',\n",
       " 'dump_patches',\n",
       " 'eval',\n",
       " 'extra_repr',\n",
       " 'float',\n",
       " 'forward',\n",
       " 'half',\n",
       " 'load_state_dict',\n",
       " 'modules',\n",
       " 'named_buffers',\n",
       " 'named_children',\n",
       " 'named_modules',\n",
       " 'named_parameters',\n",
       " 'parameters',\n",
       " 'register_backward_hook',\n",
       " 'register_buffer',\n",
       " 'register_forward_hook',\n",
       " 'register_forward_pre_hook',\n",
       " 'register_parameter',\n",
       " 'share_memory',\n",
       " 'state_dict',\n",
       " 'to',\n",
       " 'train',\n",
       " 'type',\n",
       " 'zero_grad']"
      ]
     },
     "execution_count": 10,
     "metadata": {},
     "output_type": "execute_result"
    }
   ],
   "source": [
    "dir(nn.ReLU)"
   ]
  },
  {
   "cell_type": "code",
   "execution_count": null,
   "metadata": {},
   "outputs": [],
   "source": []
  }
 ],
 "metadata": {
  "kernelspec": {
   "display_name": "pytorch_cpu",
   "language": "python",
   "name": "pytorch_cpu"
  },
  "language_info": {
   "codemirror_mode": {
    "name": "ipython",
    "version": 3
   },
   "file_extension": ".py",
   "mimetype": "text/x-python",
   "name": "python",
   "nbconvert_exporter": "python",
   "pygments_lexer": "ipython3",
   "version": "3.7.4"
  }
 },
 "nbformat": 4,
 "nbformat_minor": 2
}
