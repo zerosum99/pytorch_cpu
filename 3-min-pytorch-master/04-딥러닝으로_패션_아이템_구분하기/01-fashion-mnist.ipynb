{
 "cells": [
  {
   "cell_type": "markdown",
   "metadata": {},
   "source": [
    "# 4.1 Fashion MNIST 데이터셋 알아보기"
   ]
  },
  {
   "cell_type": "code",
   "execution_count": 1,
   "metadata": {},
   "outputs": [],
   "source": [
    "%matplotlib inline\n",
    "from torchvision import datasets, transforms, utils\n",
    "from torch.utils import data\n",
    "\n",
    "import matplotlib.pyplot as plt\n",
    "import numpy as np"
   ]
  },
  {
   "cell_type": "markdown",
   "metadata": {},
   "source": [
    "## [개념] Fashion MNIST 데이터셋"
   ]
  },
  {
   "cell_type": "code",
   "execution_count": 2,
   "metadata": {},
   "outputs": [],
   "source": [
    "transform = transforms.Compose([\n",
    "    transforms.ToTensor()\n",
    "])"
   ]
  },
  {
   "cell_type": "code",
   "execution_count": 3,
   "metadata": {},
   "outputs": [
    {
     "name": "stderr",
     "output_type": "stream",
     "text": [
      "\r",
      "0it [00:00, ?it/s]"
     ]
    },
    {
     "name": "stdout",
     "output_type": "stream",
     "text": [
      "Downloading http://fashion-mnist.s3-website.eu-central-1.amazonaws.com/train-images-idx3-ubyte.gz to ./.data/FashionMNIST/raw/train-images-idx3-ubyte.gz\n"
     ]
    },
    {
     "name": "stderr",
     "output_type": "stream",
     "text": [
      "100%|█████████▉| 26296320/26421880 [00:27<00:00, 1001746.53it/s]"
     ]
    },
    {
     "name": "stdout",
     "output_type": "stream",
     "text": [
      "Extracting ./.data/FashionMNIST/raw/train-images-idx3-ubyte.gz\n"
     ]
    },
    {
     "name": "stderr",
     "output_type": "stream",
     "text": [
      "\n",
      "0it [00:00, ?it/s]\u001b[A"
     ]
    },
    {
     "name": "stdout",
     "output_type": "stream",
     "text": [
      "Downloading http://fashion-mnist.s3-website.eu-central-1.amazonaws.com/train-labels-idx1-ubyte.gz to ./.data/FashionMNIST/raw/train-labels-idx1-ubyte.gz\n"
     ]
    },
    {
     "name": "stderr",
     "output_type": "stream",
     "text": [
      "\n",
      "  0%|          | 0/29515 [00:00<?, ?it/s]\u001b[A\n",
      " 56%|█████▌    | 16384/29515 [00:00<00:00, 80313.91it/s]\u001b[A\n",
      "32768it [00:00, 47242.80it/s]                           \u001b[A\n",
      "0it [00:00, ?it/s]\u001b[A"
     ]
    },
    {
     "name": "stdout",
     "output_type": "stream",
     "text": [
      "Extracting ./.data/FashionMNIST/raw/train-labels-idx1-ubyte.gz\n",
      "Downloading http://fashion-mnist.s3-website.eu-central-1.amazonaws.com/t10k-images-idx3-ubyte.gz to ./.data/FashionMNIST/raw/t10k-images-idx3-ubyte.gz\n"
     ]
    },
    {
     "name": "stderr",
     "output_type": "stream",
     "text": [
      "\n",
      "  0%|          | 0/4422102 [00:00<?, ?it/s]\u001b[A\n",
      "  0%|          | 16384/4422102 [00:00<00:55, 80017.28it/s]\u001b[A\n",
      "  1%|          | 49152/4422102 [00:00<00:44, 97178.50it/s]\u001b[A\n",
      "  2%|▏         | 106496/4422102 [00:00<00:34, 123690.68it/s]\u001b[A\n",
      "  5%|▌         | 221184/4422102 [00:01<00:25, 163696.10it/s]\u001b[A\n",
      "  9%|▉         | 409600/4422102 [00:01<00:18, 219610.11it/s]\u001b[A\n",
      " 13%|█▎        | 589824/4422102 [00:01<00:13, 289076.96it/s]\u001b[A\n",
      " 18%|█▊        | 778240/4422102 [00:01<00:09, 371830.11it/s]\u001b[A\n",
      " 22%|██▏       | 966656/4422102 [00:01<00:07, 465758.86it/s]\u001b[A\n",
      " 26%|██▌       | 1146880/4422102 [00:01<00:05, 561479.80it/s]\u001b[A\n",
      " 30%|███       | 1335296/4422102 [00:02<00:04, 658229.42it/s]\u001b[A\n",
      " 34%|███▍      | 1515520/4422102 [00:02<00:03, 745048.02it/s]\u001b[A\n",
      " 39%|███▊      | 1703936/4422102 [00:02<00:03, 829851.11it/s]\u001b[A\n",
      " 43%|████▎     | 1884160/4422102 [00:02<00:02, 891369.60it/s]\u001b[A\n",
      " 47%|████▋     | 2072576/4422102 [00:02<00:02, 949304.44it/s]\u001b[A\n",
      " 51%|█████     | 2260992/4422102 [00:02<00:02, 994531.19it/s]\u001b[A\n",
      " 55%|█████▌    | 2441216/4422102 [00:03<00:01, 1016107.26it/s]\u001b[A\n",
      " 59%|█████▊    | 2588672/4422102 [00:03<00:01, 1112263.23it/s]\u001b[A\n",
      " 61%|██████▏   | 2711552/4422102 [00:03<00:01, 1024515.37it/s]\u001b[A\n",
      " 64%|██████▍   | 2826240/4422102 [00:03<00:01, 1038466.38it/s]\u001b[A\n",
      " 67%|██████▋   | 2940928/4422102 [00:03<00:01, 1024906.82it/s]\u001b[A\n",
      " 69%|██████▉   | 3063808/4422102 [00:03<00:01, 1041152.43it/s]\u001b[A\n",
      " 72%|███████▏  | 3194880/4422102 [00:03<00:01, 1093499.40it/s]\u001b[A\n",
      " 75%|███████▍  | 3309568/4422102 [00:03<00:01, 985005.76it/s] \u001b[A\n",
      " 78%|███████▊  | 3448832/4422102 [00:04<00:00, 1077277.09it/s]\u001b[A\n",
      " 81%|████████  | 3579904/4422102 [00:04<00:00, 1124279.39it/s]\u001b[A\n",
      " 84%|████████▎ | 3702784/4422102 [00:04<00:00, 1048787.37it/s]\u001b[A\n",
      " 86%|████████▋ | 3817472/4422102 [00:04<00:00, 1074523.78it/s]\u001b[A\n",
      " 89%|████████▉ | 3948544/4422102 [00:04<00:00, 1126338.57it/s]\u001b[A\n",
      " 92%|█████████▏| 4071424/4422102 [00:04<00:00, 1044319.91it/s]\u001b[A\n",
      " 95%|█████████▍| 4194304/4422102 [00:04<00:00, 1041646.06it/s]\u001b[A\n",
      " 98%|█████████▊| 4341760/4422102 [00:04<00:00, 1135714.54it/s]\u001b[A\n",
      "\n",
      "0it [00:00, ?it/s]\u001b[A\u001b[A"
     ]
    },
    {
     "name": "stdout",
     "output_type": "stream",
     "text": [
      "Extracting ./.data/FashionMNIST/raw/t10k-images-idx3-ubyte.gz\n",
      "Downloading http://fashion-mnist.s3-website.eu-central-1.amazonaws.com/t10k-labels-idx1-ubyte.gz to ./.data/FashionMNIST/raw/t10k-labels-idx1-ubyte.gz\n"
     ]
    },
    {
     "name": "stderr",
     "output_type": "stream",
     "text": [
      "\n",
      "\n",
      "  0%|          | 0/5148 [00:00<?, ?it/s]\u001b[A\u001b[A\n",
      "\n",
      "8192it [00:00, 17700.00it/s]            \u001b[A\u001b[A"
     ]
    },
    {
     "name": "stdout",
     "output_type": "stream",
     "text": [
      "Extracting ./.data/FashionMNIST/raw/t10k-labels-idx1-ubyte.gz\n",
      "Processing...\n",
      "Done!\n"
     ]
    }
   ],
   "source": [
    "trainset = datasets.FashionMNIST(\n",
    "    root      = './.data/', \n",
    "    train     = True,\n",
    "    download  = True,\n",
    "    transform = transform\n",
    ")\n",
    "testset = datasets.FashionMNIST(\n",
    "    root      = './.data/', \n",
    "    train     = False,\n",
    "    download  = True,\n",
    "    transform = transform\n",
    ")"
   ]
  },
  {
   "cell_type": "code",
   "execution_count": 4,
   "metadata": {},
   "outputs": [],
   "source": [
    "batch_size = 16\n",
    "\n",
    "train_loader = data.DataLoader(\n",
    "    dataset     = trainset,\n",
    "    batch_size  = batch_size\n",
    ")\n",
    "test_loader = data.DataLoader(\n",
    "    dataset     = testset,\n",
    "    batch_size  = batch_size\n",
    ")"
   ]
  },
  {
   "cell_type": "code",
   "execution_count": 5,
   "metadata": {},
   "outputs": [],
   "source": [
    "dataiter       = iter(train_loader)\n",
    "images, labels = next(dataiter)"
   ]
  },
  {
   "cell_type": "markdown",
   "metadata": {},
   "source": [
    "## 멀리서 살펴보기\n",
    "\n",
    "누군가 \"숲을 먼저 보고 나무를 보라\"고 했습니다. 데이터셋을 먼저 전체적으로 살펴보며 어떤 느낌인지 알아보겠습니다."
   ]
  },
  {
   "cell_type": "code",
   "execution_count": 6,
   "metadata": {},
   "outputs": [
    {
     "data": {
      "image/png": "[encoded data removed]",
      "text/plain": [
       "<Figure size 720x504 with 1 Axes>"
      ]
     },
     "metadata": {
      "needs_background": "light"
     },
     "output_type": "display_data"
    }
   ],
   "source": [
    "img   = utils.make_grid(images, padding=0)\n",
    "npimg = img.numpy()\n",
    "plt.figure(figsize=(10, 7))\n",
    "plt.imshow(np.transpose(npimg, (1,2,0)))\n",
    "plt.show()"
   ]
  },
  {
   "cell_type": "code",
   "execution_count": 7,
   "metadata": {},
   "outputs": [
    {
     "name": "stdout",
     "output_type": "stream",
     "text": [
      "앵클부츠\n",
      "티셔츠/윗옷\n",
      "티셔츠/윗옷\n",
      "드레스\n",
      "티셔츠/윗옷\n",
      "스웨터\n",
      "운동화\n",
      "스웨터\n",
      "샌들\n",
      "샌들\n",
      "티셔츠/윗옷\n",
      "앵클부츠\n",
      "샌들\n",
      "샌들\n",
      "운동화\n",
      "앵클부츠\n"
     ]
    }
   ],
   "source": [
    "CLASSES = {\n",
    "    0: 'T-shirt/top',\n",
    "    1: 'Trouser',\n",
    "    2: 'Pullover',\n",
    "    3: 'Dress',\n",
    "    4: 'Coat',\n",
    "    5: 'Sandal',\n",
    "    6: 'Shirt',\n",
    "    7: 'Sneaker',\n",
    "    8: 'Bag',\n",
    "    9: 'Ankle boot'\n",
    "}\n",
    "\n",
    "KR_CLASSES = {\n",
    "    0: '티셔츠/윗옷',\n",
    "    1: '바지',\n",
    "    2: '스웨터',\n",
    "    3: '드레스',\n",
    "    4: '코트',\n",
    "    5: '샌들',\n",
    "    6: '셔츠',\n",
    "    7: '운동화',\n",
    "    8: '가방',\n",
    "    9: '앵클부츠'\n",
    "}\n",
    "\n",
    "for label in labels:\n",
    "    index = label.item()\n",
    "    print(KR_CLASSES[index])"
   ]
  },
  {
   "cell_type": "markdown",
   "metadata": {},
   "source": [
    "## 가까이서 살펴보기\n",
    "\n",
    "또 누군가는 \"숲만 보지 말고 나무를 보라\"고 합니다. 이제 전체적인 느낌을 알았으니 개별적으로 살펴보겠습니다."
   ]
  },
  {
   "cell_type": "code",
   "execution_count": 8,
   "metadata": {},
   "outputs": [
    {
     "name": "stdout",
     "output_type": "stream",
     "text": [
      "(28, 28)\n"
     ]
    },
    {
     "data": {
      "image/png": "[encoded data removed]",
      "text/plain": [
       "<Figure size 432x288 with 1 Axes>"
      ]
     },
     "metadata": {
      "needs_background": "light"
     },
     "output_type": "display_data"
    }
   ],
   "source": [
    "idx = 1\n",
    "\n",
    "item_img = images[idx]\n",
    "item_npimg = item_img.squeeze().numpy()\n",
    "plt.title(CLASSES[labels[idx].item()])\n",
    "print(item_npimg.shape)\n",
    "plt.imshow(item_npimg, cmap='gray')\n",
    "plt.show()"
   ]
  },
  {
   "cell_type": "code",
   "execution_count": 9,
   "metadata": {},
   "outputs": [
    {
     "name": "stdout",
     "output_type": "stream",
     "text": [
      "torch.Size([60000, 28, 28])\n",
      "torch.Size([60000])\n"
     ]
    },
    {
     "name": "stderr",
     "output_type": "stream",
     "text": [
      "/usr/local/lib/python3.7/dist-packages/torchvision/datasets/mnist.py:53: UserWarning: train_data has been renamed data\n",
      "  warnings.warn(\"train_data has been renamed data\")\n",
      "/usr/local/lib/python3.7/dist-packages/torchvision/datasets/mnist.py:43: UserWarning: train_labels has been renamed targets\n",
      "  warnings.warn(\"train_labels has been renamed targets\")\n"
     ]
    },
    {
     "data": {
      "image/png": "[encoded data removed]",
      "text/plain": [
       "<Figure size 432x288 with 1 Axes>"
      ]
     },
     "metadata": {
      "needs_background": "light"
     },
     "output_type": "display_data"
    }
   ],
   "source": [
    "# plot one example\n",
    "print(trainset.train_data.size())     # (60000, 28, 28)\n",
    "print(trainset.train_labels.size())   # (60000)\n",
    "plt.imshow(trainset.train_data[1].numpy(), cmap='gray')\n",
    "plt.title('%i' % trainset.train_labels[1])\n",
    "plt.show()"
   ]
  },
  {
   "cell_type": "code",
   "execution_count": 10,
   "metadata": {},
   "outputs": [
    {
     "data": {
      "text/plain": [
       "tensor(1.)"
      ]
     },
     "execution_count": 10,
     "metadata": {},
     "output_type": "execute_result"
    }
   ],
   "source": [
    "img.max()"
   ]
  },
  {
   "cell_type": "code",
   "execution_count": 11,
   "metadata": {},
   "outputs": [
    {
     "data": {
      "text/plain": [
       "tensor(0.)"
      ]
     },
     "execution_count": 11,
     "metadata": {},
     "output_type": "execute_result"
    }
   ],
   "source": [
    "img.min()"
   ]
  },
  {
   "cell_type": "code",
   "execution_count": 12,
   "metadata": {},
   "outputs": [
    {
     "data": {
      "text/plain": [
       "tensor([[[0., 0., 0.,  ..., 0., 0., 0.],\n",
       "         [0., 0., 0.,  ..., 0., 0., 0.],\n",
       "         [0., 0., 0.,  ..., 0., 0., 0.],\n",
       "         ...,\n",
       "         [0., 0., 0.,  ..., 0., 0., 0.],\n",
       "         [0., 0., 0.,  ..., 0., 0., 0.],\n",
       "         [0., 0., 0.,  ..., 0., 0., 0.]],\n",
       "\n",
       "        [[0., 0., 0.,  ..., 0., 0., 0.],\n",
       "         [0., 0., 0.,  ..., 0., 0., 0.],\n",
       "         [0., 0., 0.,  ..., 0., 0., 0.],\n",
       "         ...,\n",
       "         [0., 0., 0.,  ..., 0., 0., 0.],\n",
       "         [0., 0., 0.,  ..., 0., 0., 0.],\n",
       "         [0., 0., 0.,  ..., 0., 0., 0.]],\n",
       "\n",
       "        [[0., 0., 0.,  ..., 0., 0., 0.],\n",
       "         [0., 0., 0.,  ..., 0., 0., 0.],\n",
       "         [0., 0., 0.,  ..., 0., 0., 0.],\n",
       "         ...,\n",
       "         [0., 0., 0.,  ..., 0., 0., 0.],\n",
       "         [0., 0., 0.,  ..., 0., 0., 0.],\n",
       "         [0., 0., 0.,  ..., 0., 0., 0.]]])"
      ]
     },
     "execution_count": 12,
     "metadata": {},
     "output_type": "execute_result"
    },
    {
     "name": "stderr",
     "output_type": "stream",
     "text": [
      "26427392it [00:40, 1001746.53it/s]                              \n",
      "4423680it [00:21, 1135714.54it/s]                             \u001b[A"
     ]
    }
   ],
   "source": [
    "img"
   ]
  }
 ],
 "metadata": {
  "kernelspec": {
   "display_name": "Python 3",
   "language": "python",
   "name": "python3"
  },
  "language_info": {
   "codemirror_mode": {
    "name": "ipython",
    "version": 3
   },
   "file_extension": ".py",
   "mimetype": "text/x-python",
   "name": "python",
   "nbconvert_exporter": "python",
   "pygments_lexer": "ipython3",
   "version": "3.7.0"
  }
 },
 "nbformat": 4,
 "nbformat_minor": 2
}
